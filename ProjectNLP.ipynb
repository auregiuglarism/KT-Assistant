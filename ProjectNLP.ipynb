{
  "cells": [
    {
      "cell_type": "code",
      "execution_count": null,
      "metadata": {
        "id": "9kn_loQDruj-"
      },
      "outputs": [],
      "source": [
        "import sklearn as sk\n",
        "import numpy as np\n",
        "import pandas as pd\n",
        "import json\n",
        "\n",
        "\n",
        "class BQDataset():\n",
        "    def __init__(self, path):\n",
        "        self.dataset = open(path,encoding=\"utf-8\")\n",
        "\n",
        "        self.dataset = [json.loads(instance) for instance in self.dataset ]\n",
        "\n",
        "\n",
        "        self.passages = []\n",
        "        self.questions = []\n",
        "        self.answers = []\n",
        "        self.titles = []\n",
        "\n",
        "        for inst in self.dataset:\n",
        "            self.passages.append(inst[\"passage\"])\n",
        "            self.questions.append(inst[\"question\"])\n",
        "            self.answers.append(inst[\"answer\"])\n",
        "            self.titles.append(inst[\"title\"])\n",
        "\n",
        "    def get_dataset(self):\n",
        "        return self.dataset\n",
        "\n",
        "    def get_split(self):\n",
        "\n",
        "        return self.passages,self.questions, self.answers\n",
        "\n"
      ]
    },
    {
      "cell_type": "markdown",
      "metadata": {
        "id": "Vc41J27Lr49a"
      },
      "source": [
        "### **Preprocessing**"
      ]
    },
    {
      "cell_type": "code",
      "execution_count": null,
      "metadata": {
        "id": "KyWPl9Mqr2Hd"
      },
      "outputs": [],
      "source": [
        "def clean(text, stem_words=True):\n",
        "    import re    # for regular expressions\n",
        "    from string import punctuation\n",
        "    from nltk.stem import SnowballStemmer\n",
        "    from nltk.corpus import stopwords\n",
        "\n",
        "\n",
        "    text = re.sub(\"\\'s\", \" \", text) \n",
        "    text = re.sub(\" whats \", \" what is \", text, flags=re.IGNORECASE)\n",
        "    text = re.sub(\"\\'ve\", \" have \", text)\n",
        "\n",
        "    text = re.sub(\"can't\", \"cannot\", text, flags=re.IGNORECASE)\n",
        "    text = re.sub(\"don't\", \"do not\", text, flags=re.IGNORECASE)\n",
        "    text = re.sub(\"won't\", \"will not\", text, flags=re.IGNORECASE)\n",
        "    text = re.sub(\"shouldn't\", \"should not\", text, flags=re.IGNORECASE)\n",
        "    text = re.sub(\"couldn't\", \"could not\", text, flags=re.IGNORECASE)\n",
        "    text = re.sub(\"isn't\", \"is not\", text, flags=re.IGNORECASE)\n",
        "    text = re.sub(\"wasn't\", \"was not\", text, flags=re.IGNORECASE)\n",
        "    text = re.sub(\"weren't\", \"were not\", text, flags=re.IGNORECASE)\n",
        "    text = re.sub(\"haven't\", \"have not\", text, flags=re.IGNORECASE)\n",
        "    text = re.sub(\"hasn't\", \"has not\", text, flags=re.IGNORECASE)\n",
        "    text = re.sub(\"hadn't\", \"had not\", text, flags=re.IGNORECASE)\n",
        "\n",
        "    # remove comma between numbers, i.e. 15,000 -> 15000\n",
        "    text = re.sub('(?<=[0-9])\\,(?=[0-9])', \"\", text)\n",
        "\n",
        "    # remove punctuation\n",
        "    text = re.sub(r'[^\\w\\s]', ' ', text)\n",
        "\n",
        "    text = re.sub(r' +', ' ', text)\n",
        "\n",
        "    # Return a list of words\n",
        "    return text\n",
        "\n",
        "\n",
        "def tokenize(text):\n",
        "\n",
        "    # Split by whitespace\n",
        "    text = text.split(\" \")\n",
        "\n",
        "    return text"
      ]
    },
    {
      "cell_type": "code",
      "execution_count": null,
      "metadata": {
        "colab": {
          "base_uri": "https://localhost:8080/"
        },
        "id": "fzwfN4EEsIjw",
        "outputId": "abf8545e-a940-4196-cb24-161b33831218"
      },
      "outputs": [
        {
          "output_type": "stream",
          "name": "stderr",
          "text": [
            "[nltk_data] Downloading package punkt to /root/nltk_data...\n",
            "[nltk_data]   Package punkt is already up-to-date!\n"
          ]
        }
      ],
      "source": [
        "# Apply pre-processing to data\n",
        "import nltk\n",
        "nltk.download(\"punkt\")\n",
        "\n",
        "bqd = BQDataset(\"train.jsonl\")\n",
        "dataset = bqd.get_dataset()\n",
        "p,q,answers = bqd.get_split()\n",
        "\n",
        "questions = []\n",
        "passages = []\n",
        "for i in range(len(p)):\n",
        "\n",
        "    p_ = clean(p[i])\n",
        "    p_ = nltk.tokenize.word_tokenize(p_)\n",
        "\n",
        "    q_ = clean(q[i])\n",
        "    q_ = nltk.tokenize.word_tokenize(q_)\n",
        "\n",
        "    passages.append(p_)\n",
        "    questions.append(q_)"
      ]
    },
    {
      "cell_type": "code",
      "execution_count": null,
      "metadata": {
        "colab": {
          "base_uri": "https://localhost:8080/"
        },
        "id": "17sr7oPGLPnP",
        "outputId": "ba51ee79-ad45-45c7-c62d-bc0616a47787"
      },
      "outputs": [
        {
          "output_type": "stream",
          "name": "stdout",
          "text": [
            "['Persian', 'ˈpɜːrʒən', 'ʃən', 'also', 'known', 'by', 'its', 'endonym', 'Farsi', 'فارسی', 'fārsi', 'fɒːɾˈsiː', 'listen', 'is', 'one']\n",
            "['do', 'iran', 'and', 'afghanistan', 'speak', 'the', 'same', 'language']\n",
            "True\n",
            "['Good', 'Samaritan', 'laws', 'offer', 'legal', 'protection', 'to', 'people', 'who', 'give', 'reasonable', 'assistance', 'to', 'those', 'who']\n",
            "['do', 'good', 'samaritan', 'laws', 'protect', 'those', 'who', 'help', 'at', 'an', 'accident']\n",
            "True\n",
            "['Windows', 'Movie', 'Maker', 'formerly', 'known', 'as', 'Windows', 'Live', 'Movie', 'Maker', 'in', 'Windows', '7', 'is', 'a']\n",
            "['is', 'windows', 'movie', 'maker', 'part', 'of', 'windows', 'essentials']\n",
            "True\n",
            "['Powdered', 'sugar', 'also', 'called', 'confectioners', 'sugar', 'icing', 'sugar', 'and', 'icing', 'cake', 'is', 'a', 'finely', 'ground']\n",
            "['is', 'confectionary', 'sugar', 'the', 'same', 'as', 'powdered', 'sugar']\n",
            "True\n",
            "['As', 'with', 'other', 'games', 'in', 'The', 'Elder', 'Scrolls', 'series', 'the', 'game', 'is', 'set', 'on', 'the']\n",
            "['is', 'elder', 'scrolls', 'online', 'the', 'same', 'as', 'skyrim']\n",
            "False\n",
            "['Epsom', 'railway', 'station', 'serves', 'the', 'town', 'of', 'Epsom', 'in', 'Surrey', 'It', 'is', 'located', 'off', 'Waterloo']\n",
            "['can', 'you', 'use', 'oyster', 'card', 'at', 'epsom', 'station']\n",
            "False\n",
            "['The', 'series', 'premiered', 'in', 'the', 'United', 'States', 'on', 'Starz', 'on', '12', 'April', '2013', 'and', 'its']\n",
            "['will', 'there', 'be', 'a', 'season', '4', 'of', 'da', 'vinci', 'demons']\n",
            "False\n",
            "['The', 'federal', 'courts', 'are', 'composed', 'of', 'three', 'levels', 'of', 'courts', 'The', 'Supreme', 'Court', 'of', 'the']\n",
            "['is', 'the', 'federal', 'court', 'the', 'same', 'as', 'the', 'supreme', 'court']\n",
            "False\n",
            "['In', 'the', '1998', 'war', 'film', 'Saving', 'Private', 'Ryan', 'General', 'George', 'Marshall', 'played', 'by', 'Harve', 'Presnell']\n",
            "['did', 'abraham', 'lincoln', 'write', 'the', 'letter', 'in', 'saving', 'private', 'ryan']\n",
            "True\n",
            "['With', 'the', 'box', 'office', 'success', 'of', 'Batman', 'Forever', 'in', 'June', '1995', 'Warner', 'Bros', 'immediately', 'commissioned']\n",
            "['is', 'batman', 'and', 'robin', 'a', 'sequel', 'to', 'batman', 'forever']\n",
            "True\n"
          ]
        }
      ],
      "source": [
        "for i in range(10):\n",
        "  print(passages[i][:15])\n",
        "  print(questions[i])\n",
        "  print(answers[i])"
      ]
    },
    {
      "cell_type": "markdown",
      "metadata": {
        "id": "qk8ebzaBsSYM"
      },
      "source": [
        "### Baseline Model"
      ]
    },
    {
      "cell_type": "code",
      "execution_count": null,
      "metadata": {
        "id": "Ws1kIGUvsVaQ"
      },
      "outputs": [],
      "source": [
        "from sklearn.model_selection import *\n",
        "from sklearn.metrics import *\n",
        "class BaselineModel:\n",
        "\n",
        "\n",
        "    def __init__(self, w2v_model,embedding_size, P,Q,A,seed = 0):\n",
        "\n",
        "        self.w2v = w2v_model\n",
        "        self.embedding_size = embedding_size\n",
        "        self.P = P\n",
        "        self.Q = Q\n",
        "        self.A = A\n",
        "\n",
        "        self.X, self.y = self.get_X_y(self.P,self.Q,self.A,embedding_size,self.w2v)\n",
        "\n",
        "        self.X_train, self.X_dev, self.y_train, self.y_dev = sk.model_selection.train_test_split(self.X,self.y,random_state=seed,shuffle=True,train_size=0.7)\n",
        "\n",
        "    def get_X_y(self,P,Q,A, embedding_size, w2v):\n",
        "\n",
        "        X = []\n",
        "        y = []\n",
        "        for i in range(len(P)):\n",
        "\n",
        "            p_ = P[i]\n",
        "            q_ = Q[i]\n",
        "\n",
        "            p_vect = np.zeros(embedding_size)\n",
        "            q_vect = np.zeros(embedding_size)\n",
        "\n",
        "            for word in p_:\n",
        "                if word in w2v.wv.key_to_index:\n",
        "\n",
        "                    p_vect += w2v.wv.get_vector(word)\n",
        "\n",
        "            for word in q_:\n",
        "                if word in w2v.wv.key_to_index:\n",
        "                    q_vect += w2v.wv.get_vector(word)\n",
        "\n",
        "\n",
        "            p_vect /= len(p_)\n",
        "            q_vect /= len(q_)\n",
        "\n",
        "            X.append(np.concatenate([p_vect,q_vect]))\n",
        "            y.append(0 if A[i] == False else 1)\n",
        "\n",
        "        return X,y\n",
        "\n",
        "\n",
        "    def evaluate(self, classifier, name = \"None\"):\n",
        "\n",
        "        classifier.fit(self.X_train,self.y_train)\n",
        "\n",
        "        train_score = f1_score(self.y_train,classifier.predict(self.X_train))\n",
        "        dev_score = f1_score(self.y_dev,classifier.predict(self.X_dev))\n",
        "\n",
        "        print(f\"MODEL: {name}\")\n",
        "        print(f\"f1-score for train set: {train_score}\")\n",
        "        print(f\"f1-score for dev set: {dev_score}\")\n",
        "        print(f\"classification dev set report \\n: {classification_report(self.y_dev,classifier.predict(self.X_dev))}\")\n",
        "\n",
        "\n",
        "\n",
        "\n"
      ]
    },
    {
      "cell_type": "code",
      "execution_count": null,
      "metadata": {
        "id": "sxjTgvyAsZZ1"
      },
      "outputs": [],
      "source": [
        "from gensim.models import Word2Vec\n",
        "from sklearn.linear_model import *\n",
        "\n",
        "\n",
        "embedding_size = 100\n",
        "\n",
        "\n",
        "sentences = []\n",
        "for i in range(len(passages)):\n",
        "    temp = passages[i]\n",
        "    temp.extend(questions[i])\n",
        "    sentences.append(temp)\n",
        "\n"
      ]
    },
    {
      "cell_type": "code",
      "execution_count": null,
      "metadata": {
        "colab": {
          "base_uri": "https://localhost:8080/"
        },
        "id": "ev7f3BpcsahX",
        "outputId": "2dd3b61c-ea96-4d67-d13b-4e2fb0cc567b"
      },
      "outputs": [
        {
          "output_type": "stream",
          "name": "stderr",
          "text": [
            "WARNING:gensim.models.word2vec:Effective 'alpha' higher than previous training cycles\n"
          ]
        },
        {
          "output_type": "execute_result",
          "data": {
            "text/plain": [
              "(7724736, 9761970)"
            ]
          },
          "metadata": {},
          "execution_count": 8
        }
      ],
      "source": [
        "w2v_model = Word2Vec(sentences=sentences,vector_size=embedding_size, window= 5, min_count= 1, workers= 4)\n",
        "classifier = LogisticRegression(penalty=\"l2\",max_iter=10000)\n",
        "\n",
        "\n",
        "w2v_model.train(sentences,total_examples=len(sentences),epochs=10)\n"
      ]
    },
    {
      "cell_type": "code",
      "execution_count": null,
      "metadata": {
        "colab": {
          "base_uri": "https://localhost:8080/"
        },
        "id": "EzspiI6esczk",
        "outputId": "e980f680-15d5-463d-ed3c-32a34e8868f6"
      },
      "outputs": [
        {
          "output_type": "stream",
          "name": "stdout",
          "text": [
            "MODEL: Logistic Regression\n",
            "f1-score for train set: 0.7716686163990216\n",
            "f1-score for dev set: 0.751819322459222\n",
            "classification dev set report \n",
            ":               precision    recall  f1-score   support\n",
            "\n",
            "           0       0.59      0.31      0.41      1097\n",
            "           1       0.66      0.86      0.75      1732\n",
            "\n",
            "    accuracy                           0.65      2829\n",
            "   macro avg       0.63      0.59      0.58      2829\n",
            "weighted avg       0.64      0.65      0.62      2829\n",
            "\n",
            "MODEL: Support Vector Machine\n",
            "f1-score for train set: 0.929717626570469\n",
            "f1-score for dev set: 0.7003525264394829\n",
            "classification dev set report \n",
            ":               precision    recall  f1-score   support\n",
            "\n",
            "           0       0.53      0.56      0.55      1097\n",
            "           1       0.71      0.69      0.70      1732\n",
            "\n",
            "    accuracy                           0.64      2829\n",
            "   macro avg       0.62      0.63      0.62      2829\n",
            "weighted avg       0.64      0.64      0.64      2829\n",
            "\n"
          ]
        }
      ],
      "source": [
        "k = BaselineModel(w2v_model,embedding_size,passages,questions,answers)\n",
        "k.evaluate(classifier,\"Logistic Regression\")\n",
        "svm = sk.svm.SVC(class_weight = \"balanced\",max_iter = 40000,C = 15)\n",
        "k.evaluate(svm,\"Support Vector Machine\")"
      ]
    },
    {
      "cell_type": "markdown",
      "metadata": {
        "id": "vpFaFnaYsfbl"
      },
      "source": [
        "### **The LSTM Model**"
      ]
    },
    {
      "cell_type": "code",
      "execution_count": null,
      "metadata": {
        "id": "mKSIWXC6slSz"
      },
      "outputs": [],
      "source": [
        "import numpy as np\n",
        "import tensorflow as tf\n",
        "import sklearn as sk\n",
        "import pandas as pd\n",
        "from sklearn.model_selection import *\n",
        "from sklearn.metrics import *\n",
        "\n",
        "BUFFER_SIZE = 10000\n",
        "BATCH_SIZE = 64\n",
        "\n",
        "passages = []\n",
        "questions = []\n",
        "answers = []\n",
        "\n",
        "for line in dataset:\n",
        "\n",
        "    passages.append(clean(line[\"passage\"]))\n",
        "    questions.append(clean(line[\"question\"]))\n",
        "    answers.append(line[\"answer\"])\n"
      ]
    },
    {
      "cell_type": "code",
      "execution_count": null,
      "metadata": {
        "colab": {
          "base_uri": "https://localhost:8080/"
        },
        "id": "Fa8t_wCrsnW0",
        "outputId": "e7efb67f-67d4-4f02-83c9-9357cf740442"
      },
      "outputs": [
        {
          "output_type": "stream",
          "name": "stdout",
          "text": [
            "Within the ADIZ is an even more sensitive zone designated the Washington D C Metropolitan Area Flight Restricted Zone DC FRZ The DC FRZ extends approximately 13 15 nmi 15 17 mi 24 28 km around the DCA VOR DME Flight within the FRZ is restricted to governmental certain scheduled commercial and a limited set of waivered flights Three general aviation airports known as the Maryland 3 or the DC 3 are located inside the DC FRZ College Park Airport CGS Washington Executive Hyde Field W32 and Potomac Airport VKX  __SEP__ are planes allowed to fly over washington dc\n"
          ]
        }
      ],
      "source": [
        "# Splitting the data into train and development sets\n",
        "X = []\n",
        "for i in range(len(passages)):\n",
        "    X.append(passages[i] + \" __SEP__ \" +  questions[i])\n",
        "\n",
        "seed = 42\n",
        "X_train, X_dev, y_train, y_dev = sk.model_selection.train_test_split(X,answers,random_state=seed,shuffle=True,train_size=0.7)\n",
        "y_train = [1 if y else 0 for y in y_train]\n",
        "y_dev = [1 if y else 0 for y in y_dev]\n",
        "\n",
        "print(X_train[1]) # For testing\n",
        "\n",
        "# Here we are putting the data into a tensorflow dataset so that we can use it with the enconder to vectorize it.\n",
        "X_train_tf = tf.data.Dataset.from_tensor_slices(X_train) # To encode the vectors for the training set\n",
        "# X_dev_tf = tf.data.Dataset.from_tensor_slices(X_dev) # To encode the vectors for the development set\n"
      ]
    },
    {
      "cell_type": "code",
      "execution_count": null,
      "metadata": {
        "colab": {
          "base_uri": "https://localhost:8080/"
        },
        "id": "WjZ9mr9ste2Y",
        "outputId": "0ab842e2-2c01-4d91-8d3e-12ab1efce043"
      },
      "outputs": [
        {
          "output_type": "stream",
          "name": "stdout",
          "text": [
            "Persian ˈpɜːrʒən ʃən also known by its endonym Farsi فارسی fārsi fɒːɾˈsiː listen is one of the Western Iranian languages within the Indo Iranian branch of the Indo European language family It is primarily spoken in Iran Afghanistan officially known as Dari since 1958 and Tajikistan officially known as Tajiki since the Soviet era and some other regions which historically were Persianate societies and considered part of Greater Iran It is written in the Persian alphabet a modified variant of the Arabic script which itself evolved from the Aramaic alphabet  <SEP> do iran and afghanistan speak the same language\n"
          ]
        }
      ],
      "source": [
        "print(X[0])"
      ]
    },
    {
      "cell_type": "code",
      "execution_count": null,
      "metadata": {
        "colab": {
          "base_uri": "https://localhost:8080/"
        },
        "id": "MJyroU01spjm",
        "outputId": "c0ebb5bc-0f79-434a-a076-28850c1cb278"
      },
      "outputs": [
        {
          "output_type": "stream",
          "name": "stdout",
          "text": [
            "<class 'list'>\n",
            "<class 'list'>\n"
          ]
        }
      ],
      "source": [
        "# Encoding the X_train data only to encode the word vectors then we use X_train on the model\n",
        "\n",
        "\n",
        "print(type(X)) # For testing\n",
        "print(type(y_train)) # For testing\n",
        "\n",
        "encoder = tf.keras.layers.TextVectorization() # Splits on whitespace by default\n",
        "encoder.adapt(X_train_tf.batch(64))\n",
        "\n",
        "vocab = np.array(encoder.get_vocabulary())\n"
      ]
    },
    {
      "cell_type": "code",
      "execution_count": null,
      "metadata": {
        "colab": {
          "base_uri": "https://localhost:8080/"
        },
        "id": "7xkuOgW9PvPH",
        "outputId": "02576de9-c127-4b71-d870-c6ba352c1ca8"
      },
      "outputs": [
        {
          "output_type": "stream",
          "name": "stdout",
          "text": [
            "vocab size:  36383\n"
          ]
        }
      ],
      "source": [
        "print(\"vocab size: \",len(vocab))"
      ]
    },
    {
      "cell_type": "code",
      "execution_count": null,
      "metadata": {
        "id": "j2VMYENwCSpA"
      },
      "outputs": [],
      "source": [
        "def get_LSTM_model(encoder,embedding_size = 100, dim = 100,lstm_cnt = 1,post_lstm_dense_cnt = 1, dropout = 0.2):\n",
        "\n",
        "  lstm_layers = [tf.keras.layers.Bidirectional(tf.keras.layers.LSTM(dim,dropout = dropout,return_sequences=True)) for i in range(lstm_cnt-1)]\n",
        "  lstm_layers.append(tf.keras.layers.Bidirectional(tf.keras.layers.LSTM(dim,dropout = dropout,return_sequences=False)))\n",
        "\n",
        "  layers = [encoder,\n",
        "            tf.keras.layers.Embedding( input_dim=len(vocab), output_dim=embedding_size,mask_zero=True),\n",
        "            ]\n",
        "  layers.extend(lstm_layers)\n",
        "\n",
        "  for i in range(post_lstm_dense_cnt):\n",
        "    layers.append(tf.keras.layers.Dense(dim, activation='tanh'))\n",
        "    layers.append(tf.keras.layers.Dropout(dropout))\n",
        "\n",
        "  layers.append(tf.keras.layers.Dense(1,activation='sigmoid'))\n",
        "\n",
        "  model = tf.keras.Sequential(layers)\n",
        "\n",
        "  return model\n"
      ]
    },
    {
      "cell_type": "code",
      "execution_count": null,
      "metadata": {
        "colab": {
          "base_uri": "https://localhost:8080/",
          "height": 1000
        },
        "id": "7TIT03Mlsw2C",
        "outputId": "63d3398f-d60b-412c-e9fd-1734a4e1bd94"
      },
      "outputs": [
        {
          "output_type": "stream",
          "name": "stdout",
          "text": [
            "Epoch 1/15\n",
            "165/165 [==============================] - 46s 214ms/step - loss: 0.2379 - accuracy: 0.6229\n",
            "Epoch 2/15\n",
            "165/165 [==============================] - 24s 144ms/step - loss: 0.2278 - accuracy: 0.6255\n",
            "Epoch 3/15\n",
            "165/165 [==============================] - 29s 178ms/step - loss: 0.1803 - accuracy: 0.7378\n",
            "Epoch 4/15\n",
            "165/165 [==============================] - 15s 90ms/step - loss: 0.1043 - accuracy: 0.8630\n",
            "Epoch 5/15\n",
            "165/165 [==============================] - 12s 74ms/step - loss: 0.0601 - accuracy: 0.9251\n",
            "Epoch 6/15\n",
            "165/165 [==============================] - 10s 58ms/step - loss: 0.0448 - accuracy: 0.9444\n",
            "Epoch 7/15\n",
            "165/165 [==============================] - 9s 52ms/step - loss: 0.0364 - accuracy: 0.9554\n",
            "Epoch 8/15\n",
            "165/165 [==============================] - 8s 48ms/step - loss: 0.0325 - accuracy: 0.9604\n",
            "Epoch 9/15\n",
            "165/165 [==============================] - 9s 56ms/step - loss: 0.0286 - accuracy: 0.9654\n",
            "Epoch 10/15\n",
            "165/165 [==============================] - 7s 43ms/step - loss: 0.0272 - accuracy: 0.9682\n",
            "Epoch 11/15\n",
            "165/165 [==============================] - 7s 44ms/step - loss: 0.0258 - accuracy: 0.9679\n",
            "Epoch 12/15\n",
            "165/165 [==============================] - 6s 39ms/step - loss: 0.0254 - accuracy: 0.9688\n",
            "Epoch 13/15\n",
            "165/165 [==============================] - 8s 46ms/step - loss: 0.0246 - accuracy: 0.9703\n",
            "Epoch 14/15\n",
            "165/165 [==============================] - 7s 41ms/step - loss: 0.0242 - accuracy: 0.9709\n",
            "Epoch 15/15\n",
            "165/165 [==============================] - 7s 43ms/step - loss: 0.0222 - accuracy: 0.9723\n"
          ]
        },
        {
          "output_type": "stream",
          "name": "stderr",
          "text": [
            "WARNING:absl:Found untraced functions such as lstm_cell_1_layer_call_fn, lstm_cell_1_layer_call_and_return_conditional_losses, lstm_cell_2_layer_call_fn, lstm_cell_2_layer_call_and_return_conditional_losses while saving (showing 4 of 4). These functions will not be directly callable after loading.\n"
          ]
        },
        {
          "output_type": "stream",
          "name": "stdout",
          "text": [
            "LSTM LAYER CNT:  1\n",
            "TRAIN REPORT:\n",
            "              precision    recall  f1-score   support\n",
            "\n",
            "           0       0.98      0.97      0.98      2475\n",
            "           1       0.98      0.99      0.99      4123\n",
            "\n",
            "    accuracy                           0.98      6598\n",
            "   macro avg       0.98      0.98      0.98      6598\n",
            "weighted avg       0.98      0.98      0.98      6598\n",
            "\n",
            "0.9863378067948253\n"
          ]
        },
        {
          "output_type": "error",
          "ename": "NameError",
          "evalue": "ignored",
          "traceback": [
            "\u001b[0;31m---------------------------------------------------------------------------\u001b[0m",
            "\u001b[0;31mNameError\u001b[0m                                 Traceback (most recent call last)",
            "\u001b[0;32m<ipython-input-11-97d65e089feb>\u001b[0m in \u001b[0;36m<cell line: 7>\u001b[0;34m()\u001b[0m\n\u001b[1;32m     28\u001b[0m \u001b[0;34m\u001b[0m\u001b[0m\n\u001b[1;32m     29\u001b[0m \u001b[0;34m\u001b[0m\u001b[0m\n\u001b[0;32m---> 30\u001b[0;31m   \u001b[0mtest_pred_cls\u001b[0m \u001b[0;34m=\u001b[0m \u001b[0;34m[\u001b[0m\u001b[0;36m0\u001b[0m \u001b[0;32mif\u001b[0m \u001b[0mi\u001b[0m \u001b[0;34m<=\u001b[0m \u001b[0;36m0.5\u001b[0m \u001b[0;32melse\u001b[0m \u001b[0;36m1\u001b[0m \u001b[0;32mfor\u001b[0m \u001b[0mi\u001b[0m \u001b[0;32min\u001b[0m \u001b[0mtest_pred\u001b[0m\u001b[0;34m]\u001b[0m\u001b[0;34m\u001b[0m\u001b[0;34m\u001b[0m\u001b[0m\n\u001b[0m\u001b[1;32m     31\u001b[0m   \u001b[0mtest_pred\u001b[0m \u001b[0;34m=\u001b[0m \u001b[0mmodel\u001b[0m\u001b[0;34m.\u001b[0m\u001b[0mpredict\u001b[0m\u001b[0;34m(\u001b[0m\u001b[0mX_dev\u001b[0m\u001b[0;34m,\u001b[0m \u001b[0mverbose\u001b[0m \u001b[0;34m=\u001b[0m \u001b[0;36m0\u001b[0m\u001b[0;34m)\u001b[0m\u001b[0;34m\u001b[0m\u001b[0;34m\u001b[0m\u001b[0m\n\u001b[1;32m     32\u001b[0m   \u001b[0mprint\u001b[0m\u001b[0;34m(\u001b[0m\u001b[0;34m\"DEV REPORT:\"\u001b[0m\u001b[0;34m)\u001b[0m\u001b[0;34m\u001b[0m\u001b[0;34m\u001b[0m\u001b[0m\n",
            "\u001b[0;31mNameError\u001b[0m: name 'test_pred' is not defined"
          ]
        }
      ],
      "source": [
        "# Building the model\n",
        "# We are using the X_train data to train the model, X_train_tf is only used to encode the word vectors.\n",
        "\n",
        "\n",
        "lstm_cnts = [1,2,3]\n",
        "\n",
        "for lstm_cnt in lstm_cnts:\n",
        "  model = get_LSTM_model(encoder,embedding_size = 128,dim = 128,lstm_cnt = lstm_cnt, post_lstm_dense_cnt=1,dropout = 0.3) \n",
        "\n",
        "  model.compile(loss=\"mse\",\n",
        "                optimizer=tf.keras.optimizers.Adam(1e-4),\n",
        "                metrics=['accuracy'])\n",
        "\n",
        "  # Training the model on the training set\n",
        "  model.fit(X_train, y_train, epochs=15,batch_size=40, verbose = 1)\n",
        "\n",
        "  # Save the model\n",
        "  model_path = \"saved_model_\"+str(lstm_cnt)\n",
        "  model.save(model_path)\n",
        "\n",
        "  print(\"LSTM LAYER CNT: \",lstm_cnt)\n",
        "\n",
        "  k  = model.predict(X_train, verbose = 0)\n",
        "  k = [0 if i <= 0.5 else 1 for i in k ]\n",
        "  print(\"TRAIN REPORT:\")\n",
        "  print(classification_report(y_train,k))\n",
        "  print(f1_score(y_train,k))\n",
        "\n",
        "\n",
        "  test_pred_cls = [0 if i <= 0.5 else 1 for i in test_pred]\n",
        "  test_pred = model.predict(X_dev, verbose = 0)\n",
        "  print(\"DEV REPORT:\")\n",
        "  print(f1_score(y_dev,test_pred_cls))\n",
        "  print(classification_report(y_dev,test_pred_cls))\n"
      ]
    },
    {
      "cell_type": "code",
      "source": [
        "!zip -r saved_model_1.zip /content/saved_model_1"
      ],
      "metadata": {
        "colab": {
          "base_uri": "https://localhost:8080/"
        },
        "id": "l5UnGCCWmQPO",
        "outputId": "849ce6b0-4f88-4b63-9dac-e98606ef3577"
      },
      "execution_count": null,
      "outputs": [
        {
          "output_type": "stream",
          "name": "stdout",
          "text": [
            "  adding: content/saved_model_1/ (stored 0%)\n",
            "  adding: content/saved_model_1/variables/ (stored 0%)\n",
            "  adding: content/saved_model_1/variables/variables.index (deflated 63%)\n",
            "  adding: content/saved_model_1/variables/variables.data-00000-of-00001 (deflated 6%)\n",
            "  adding: content/saved_model_1/keras_metadata.pb (deflated 90%)\n",
            "  adding: content/saved_model_1/saved_model.pb (deflated 88%)\n",
            "  adding: content/saved_model_1/fingerprint.pb (stored 0%)\n",
            "  adding: content/saved_model_1/assets/ (stored 0%)\n"
          ]
        }
      ]
    },
    {
      "cell_type": "markdown",
      "metadata": {
        "id": "xi-IKp3Wjj7O"
      },
      "source": [
        "#### **Managing overfitting problem - Dropout**"
      ]
    },
    {
      "cell_type": "code",
      "execution_count": null,
      "metadata": {
        "colab": {
          "base_uri": "https://localhost:8080/"
        },
        "id": "jhiHuzKxjs3d",
        "outputId": "52d938ee-e2fc-4219-b282-5394a5dd91c3"
      },
      "outputs": [
        {
          "name": "stderr",
          "output_type": "stream",
          "text": [
            "/usr/local/lib/python3.10/dist-packages/ipykernel/ipkernel.py:283: DeprecationWarning: `should_run_async` will not call `transform_cell` automatically in the future. Please pass the result to `transformed_cell` argument and any exception that happen during thetransform in `preprocessing_exc_tuple` in IPython 7.17 and above.\n",
            "  and should_run_async(code)\n"
          ]
        },
        {
          "name": "stdout",
          "output_type": "stream",
          "text": [
            "DROPOUT:  0\n",
            "TRAIN REPORT:\n",
            "              precision    recall  f1-score   support\n",
            "\n",
            "           0       0.99      0.98      0.98      2475\n",
            "           1       0.99      0.99      0.99      4123\n",
            "\n",
            "    accuracy                           0.99      6598\n",
            "   macro avg       0.99      0.99      0.99      6598\n",
            "weighted avg       0.99      0.99      0.99      6598\n",
            "\n",
            "0.9902114803625378\n",
            "DEV REPORT:\n",
            "0.7503983005841742\n",
            "              precision    recall  f1-score   support\n",
            "\n",
            "           0       0.58      0.44      0.50      1078\n",
            "           1       0.70      0.81      0.75      1751\n",
            "\n",
            "    accuracy                           0.67      2829\n",
            "   macro avg       0.64      0.62      0.63      2829\n",
            "weighted avg       0.66      0.67      0.66      2829\n",
            "\n",
            "DROPOUT:  0.1\n",
            "TRAIN REPORT:\n",
            "              precision    recall  f1-score   support\n",
            "\n",
            "           0       0.99      0.98      0.98      2475\n",
            "           1       0.99      0.99      0.99      4123\n",
            "\n",
            "    accuracy                           0.99      6598\n",
            "   macro avg       0.99      0.99      0.99      6598\n",
            "weighted avg       0.99      0.99      0.99      6598\n",
            "\n",
            "0.9899625105816906\n",
            "DEV REPORT:\n",
            "0.7107061503416857\n",
            "              precision    recall  f1-score   support\n",
            "\n",
            "           0       0.53      0.52      0.53      1078\n",
            "           1       0.71      0.71      0.71      1751\n",
            "\n",
            "    accuracy                           0.64      2829\n",
            "   macro avg       0.62      0.62      0.62      2829\n",
            "weighted avg       0.64      0.64      0.64      2829\n",
            "\n",
            "DROPOUT:  0.2\n",
            "TRAIN REPORT:\n",
            "              precision    recall  f1-score   support\n",
            "\n",
            "           0       0.98      0.98      0.98      2475\n",
            "           1       0.99      0.99      0.99      4123\n",
            "\n",
            "    accuracy                           0.99      6598\n",
            "   macro avg       0.98      0.99      0.99      6598\n",
            "weighted avg       0.99      0.99      0.99      6598\n",
            "\n",
            "0.9888349514563107\n",
            "DEV REPORT:\n",
            "0.7397186147186148\n",
            "              precision    recall  f1-score   support\n",
            "\n",
            "           0       0.57      0.46      0.51      1078\n",
            "           1       0.70      0.78      0.74      1751\n",
            "\n",
            "    accuracy                           0.66      2829\n",
            "   macro avg       0.63      0.62      0.62      2829\n",
            "weighted avg       0.65      0.66      0.65      2829\n",
            "\n",
            "DROPOUT:  0.3\n",
            "TRAIN REPORT:\n",
            "              precision    recall  f1-score   support\n",
            "\n",
            "           0       0.97      0.98      0.98      2475\n",
            "           1       0.99      0.98      0.99      4123\n",
            "\n",
            "    accuracy                           0.98      6598\n",
            "   macro avg       0.98      0.98      0.98      6598\n",
            "weighted avg       0.98      0.98      0.98      6598\n",
            "\n",
            "0.9861246348588121\n",
            "DEV REPORT:\n",
            "0.7366391184573002\n",
            "              precision    recall  f1-score   support\n",
            "\n",
            "           0       0.56      0.50      0.53      1078\n",
            "           1       0.71      0.76      0.74      1751\n",
            "\n",
            "    accuracy                           0.66      2829\n",
            "   macro avg       0.64      0.63      0.63      2829\n",
            "weighted avg       0.66      0.66      0.66      2829\n",
            "\n",
            "DROPOUT:  0.5\n",
            "TRAIN REPORT:\n",
            "              precision    recall  f1-score   support\n",
            "\n",
            "           0       0.97      0.97      0.97      2475\n",
            "           1       0.98      0.98      0.98      4123\n",
            "\n",
            "    accuracy                           0.98      6598\n",
            "   macro avg       0.98      0.98      0.98      6598\n",
            "weighted avg       0.98      0.98      0.98      6598\n",
            "\n",
            "0.9818049490538573\n",
            "DEV REPORT:\n",
            "0.6672794117647058\n",
            "              precision    recall  f1-score   support\n",
            "\n",
            "           0       0.50      0.61      0.55      1078\n",
            "           1       0.72      0.62      0.67      1751\n",
            "\n",
            "    accuracy                           0.62      2829\n",
            "   macro avg       0.61      0.61      0.61      2829\n",
            "weighted avg       0.63      0.62      0.62      2829\n",
            "\n"
          ]
        }
      ],
      "source": [
        "\n",
        "dropouts = [0,0.1,0.2,0.3,0.5]\n",
        "\n",
        "train_f1s = []\n",
        "dev_f1s = []\n",
        "\n",
        "for dropout in dropouts:\n",
        "  model = get_LSTM_model(encoder,embedding_size = 128,dim = 128,lstm_cnt = 1, post_lstm_dense_cnt=1,dropout = dropout) \n",
        "\n",
        "  model.compile(loss=\"mse\",\n",
        "                optimizer=tf.keras.optimizers.Adam(1e-4),\n",
        "                metrics=['accuracy'])\n",
        "\n",
        "  # Training the model on the training set\n",
        "  model.fit(X_train, y_train, epochs=15,batch_size=40, verbose = 0)\n",
        "\n",
        "  print(\"DROPOUT: \",dropout)\n",
        "\n",
        "  k  = model.predict(X_train, verbose = 0)\n",
        "  k = [0 if i <= 0.5 else 1 for i in k ]\n",
        "  print(\"TRAIN REPORT:\")\n",
        "  print(classification_report(y_train,k))\n",
        "  print(f1_score(y_train,k))\n",
        "  train_f1s.append(f1_score(y_train,k))\n",
        "\n",
        "  test_pred_cls = [0 if i <= 0.5 else 1 for i in test_pred]\n",
        "  test_pred = model.predict(X_dev, verbose = 0)\n",
        "  print(\"DEV REPORT:\")\n",
        "  print(f1_score(y_dev,test_pred_cls))\n",
        "  print(classification_report(y_dev,test_pred_cls))\n",
        "  dev_f1s.append(f1_score(y_dev,test_pred_cls))"
      ]
    },
    {
      "cell_type": "code",
      "execution_count": null,
      "metadata": {
        "colab": {
          "base_uri": "https://localhost:8080/",
          "height": 504
        },
        "id": "zIU53y-YkaWO",
        "outputId": "e6d4e334-ec8a-4e78-986f-72a442550183"
      },
      "outputs": [
        {
          "name": "stderr",
          "output_type": "stream",
          "text": [
            "/usr/local/lib/python3.10/dist-packages/ipykernel/ipkernel.py:283: DeprecationWarning: `should_run_async` will not call `transform_cell` automatically in the future. Please pass the result to `transformed_cell` argument and any exception that happen during thetransform in `preprocessing_exc_tuple` in IPython 7.17 and above.\n",
            "  and should_run_async(code)\n"
          ]
        },
        {
          "data": {
            "image/png": "[encoded data removed]",
            "text/plain": [
              "<Figure size 640x480 with 1 Axes>"
            ]
          },
          "metadata": {},
          "output_type": "display_data"
        }
      ],
      "source": [
        "import matplotlib.pyplot as plt\n",
        "%matplotlib inline\n",
        "plt.close()\n",
        "plt.plot(dropouts,train_f1s,label = 'train f1 scores')\n",
        "plt.plot(dropouts,dev_f1s,label = 'dev f1 scores')\n",
        "plt.xlabel('droput')\n",
        "plt.ylabel('f1-score')\n",
        "plt.legend(loc = \"upper right\")\n",
        "plt.show()\n"
      ]
    },
    {
      "cell_type": "markdown",
      "metadata": {
        "id": "7QwwfqXZlwB_"
      },
      "source": [
        "#### **Neuron Amount**"
      ]
    },
    {
      "cell_type": "code",
      "execution_count": null,
      "metadata": {
        "colab": {
          "base_uri": "https://localhost:8080/"
        },
        "id": "cWNIwtAPl1u2",
        "outputId": "e8d5b58c-e1c4-429b-f621-f71414bf637c"
      },
      "outputs": [
        {
          "output_type": "stream",
          "name": "stdout",
          "text": [
            "Neuron CNT:  16\n",
            "TRAIN REPORT:\n",
            "              precision    recall  f1-score   support\n",
            "\n",
            "           0       0.97      0.97      0.97      2475\n",
            "           1       0.98      0.98      0.98      4123\n",
            "\n",
            "    accuracy                           0.98      6598\n",
            "   macro avg       0.98      0.98      0.98      6598\n",
            "weighted avg       0.98      0.98      0.98      6598\n",
            "\n",
            "0.9843503578794128\n",
            "DEV REPORT:\n",
            "0.7088750706613908\n",
            "              precision    recall  f1-score   support\n",
            "\n",
            "           0       0.52      0.51      0.51      1078\n",
            "           1       0.70      0.72      0.71      1751\n",
            "\n",
            "    accuracy                           0.64      2829\n",
            "   macro avg       0.61      0.61      0.61      2829\n",
            "weighted avg       0.63      0.64      0.63      2829\n",
            "\n",
            "Neuron CNT:  32\n",
            "TRAIN REPORT:\n",
            "              precision    recall  f1-score   support\n",
            "\n",
            "           0       0.98      0.97      0.98      2475\n",
            "           1       0.98      0.99      0.99      4123\n",
            "\n",
            "    accuracy                           0.98      6598\n",
            "   macro avg       0.98      0.98      0.98      6598\n",
            "weighted avg       0.98      0.98      0.98      6598\n",
            "\n",
            "0.9852550157118685\n",
            "DEV REPORT:\n",
            "0.7136097968271639\n",
            "              precision    recall  f1-score   support\n",
            "\n",
            "           0       0.52      0.48      0.50      1078\n",
            "           1       0.70      0.73      0.71      1751\n",
            "\n",
            "    accuracy                           0.64      2829\n",
            "   macro avg       0.61      0.61      0.61      2829\n",
            "weighted avg       0.63      0.64      0.63      2829\n",
            "\n",
            "Neuron CNT:  64\n",
            "TRAIN REPORT:\n",
            "              precision    recall  f1-score   support\n",
            "\n",
            "           0       0.98      0.98      0.98      2475\n",
            "           1       0.99      0.99      0.99      4123\n",
            "\n",
            "    accuracy                           0.98      6598\n",
            "   macro avg       0.98      0.98      0.98      6598\n",
            "weighted avg       0.98      0.98      0.98      6598\n",
            "\n",
            "0.9859428017450316\n",
            "DEV REPORT:\n",
            "0.7432396251673361\n",
            "              precision    recall  f1-score   support\n",
            "\n",
            "           0       0.57      0.45      0.50      1078\n",
            "           1       0.70      0.79      0.74      1751\n",
            "\n",
            "    accuracy                           0.66      2829\n",
            "   macro avg       0.64      0.62      0.62      2829\n",
            "weighted avg       0.65      0.66      0.65      2829\n",
            "\n",
            "Neuron CNT:  256\n",
            "TRAIN REPORT:\n",
            "              precision    recall  f1-score   support\n",
            "\n",
            "           0       0.98      0.99      0.98      2475\n",
            "           1       0.99      0.99      0.99      4123\n",
            "\n",
            "    accuracy                           0.99      6598\n",
            "   macro avg       0.99      0.99      0.99      6598\n",
            "weighted avg       0.99      0.99      0.99      6598\n",
            "\n",
            "0.9897983968909401\n",
            "DEV REPORT:\n",
            "0.6984879928846723\n",
            "              precision    recall  f1-score   support\n",
            "\n",
            "           0       0.53      0.59      0.55      1078\n",
            "           1       0.73      0.67      0.70      1751\n",
            "\n",
            "    accuracy                           0.64      2829\n",
            "   macro avg       0.63      0.63      0.63      2829\n",
            "weighted avg       0.65      0.64      0.64      2829\n",
            "\n"
          ]
        }
      ],
      "source": [
        "neuron_cnts = [16,32,64,256]\n",
        "\n",
        "train_f1s = []\n",
        "dev_f1s = []\n",
        "\n",
        "for d_model in neuron_cnts:\n",
        "  model = get_LSTM_model(encoder,embedding_size = 128,dim = d_model,lstm_cnt = 1, post_lstm_dense_cnt=1,dropout = 0.2) \n",
        "\n",
        "  model.compile(loss=\"mse\",\n",
        "                optimizer=tf.keras.optimizers.Adam(1e-4),\n",
        "                metrics=['accuracy'])\n",
        "\n",
        "  # Training the model on the training set\n",
        "  model.fit(X_train, y_train, epochs=15,batch_size=40, verbose = 0)\n",
        "\n",
        "  print(\"Neuron CNT: \",d_model)\n",
        "\n",
        "  k  = model.predict(X_train, verbose = 0)\n",
        "  k = [0 if i <= 0.5 else 1 for i in k ]\n",
        "  print(\"TRAIN REPORT:\")\n",
        "  print(classification_report(y_train,k))\n",
        "  print(f1_score(y_train,k))\n",
        "  train_f1s.append(f1_score(y_train,k))\n",
        "\n",
        "  test_pred = model.predict(X_dev, verbose = 0)\n",
        "  test_pred_cls = [0 if i <= 0.5 else 1 for i in test_pred]\n",
        "  print(\"DEV REPORT:\")\n",
        "  print(f1_score(y_dev,test_pred_cls))\n",
        "  print(classification_report(y_dev,test_pred_cls))\n",
        "  dev_f1s.append(f1_score(y_dev,test_pred_cls))"
      ]
    },
    {
      "cell_type": "code",
      "execution_count": null,
      "metadata": {
        "id": "PlNqnotxmFsm",
        "colab": {
          "base_uri": "https://localhost:8080/",
          "height": 467
        },
        "outputId": "68558616-7709-4fcc-de66-c43d3f17ed81"
      },
      "outputs": [
        {
          "output_type": "execute_result",
          "data": {
            "text/plain": [
              "<matplotlib.legend.Legend at 0x7f5a9e0b3580>"
            ]
          },
          "metadata": {},
          "execution_count": 22
        },
        {
          "output_type": "display_data",
          "data": {
            "text/plain": [
              "<Figure size 640x480 with 1 Axes>"
            ],
            "image/png": "[encoded data removed]"
          },
          "metadata": {}
        }
      ],
      "source": [
        "import matplotlib.pyplot as plt\n",
        "\n",
        "plt.plot(neuron_cnts,train_f1s,label = 'train f1 scores')\n",
        "plt.plot(neuron_cnts,dev_f1s,label = 'dev f1 scores')\n",
        "plt.xlabel('droput')\n",
        "plt.ylabel('f1-score')\n",
        "plt.legend(loc = \"upper right\")"
      ]
    },
    {
      "cell_type": "markdown",
      "source": [
        "### **Test Set Evaluation**"
      ],
      "metadata": {
        "id": "acg3sMB5t2Xp"
      }
    },
    {
      "cell_type": "code",
      "source": [
        "bqd = BQDataset(\"dev.jsonl\")\n",
        "dataset = bqd.get_dataset()\n",
        "p,q,answers = bqd.get_split()\n",
        "\n",
        "X_test  = []\n",
        "y_test = []\n",
        "for i in range(len(answers)):\n",
        "\n",
        "  y_test.append(1 if answers[i] else 0)\n",
        "\n",
        "  X_test.append(clean(p[i]) + \" __SEP__ \" + clean(q[i]))"
      ],
      "metadata": {
        "id": "LqnuWrg7t15A"
      },
      "execution_count": null,
      "outputs": []
    },
    {
      "cell_type": "code",
      "source": [
        "from sklearn.utils.class_weight import compute_class_weight\n",
        "\n",
        "class_weights = compute_class_weight(class_weight = \"balanced\", classes = [0,1], y = y_test)\n",
        "class_weights = {i : class_weights[i] for i in range(len(class_weights))}"
      ],
      "metadata": {
        "id": "VQN9746-0VZ7"
      },
      "execution_count": null,
      "outputs": []
    },
    {
      "cell_type": "code",
      "source": [
        "\n",
        "\n",
        "final_model = get_LSTM_model(encoder,embedding_size = 128, dim = 64,lstm_cnt = 1,post_lstm_dense_cnt = 1, dropout = 0.2)\n",
        "final_model.compile(loss=\"mse\",\n",
        "                optimizer=tf.keras.optimizers.Adam(1e-4),\n",
        "                metrics=['accuracy'])\n",
        "\n",
        "tf.keras.utils.plot_model(final_model)"
      ],
      "metadata": {
        "colab": {
          "base_uri": "https://localhost:8080/",
          "height": 661
        },
        "id": "gnCWKBMcu1d6",
        "outputId": "457dff70-d507-4184-fb06-43823132a081"
      },
      "execution_count": null,
      "outputs": [
        {
          "output_type": "execute_result",
          "data": {
            "image/png": "[encoded data removed]",
            "text/plain": [
              "<IPython.core.display.Image object>"
            ]
          },
          "metadata": {},
          "execution_count": 45
        }
      ]
    },
    {
      "cell_type": "code",
      "source": [
        "X_fin = np.concatenate((X_train,X_dev))\n",
        "y_fin = np.concatenate((y_train,y_dev))"
      ],
      "metadata": {
        "id": "NR8c0RRYv5bo"
      },
      "execution_count": null,
      "outputs": []
    },
    {
      "cell_type": "code",
      "source": [
        "final_model.fit(X_fin,y_fin,epochs = 15, batch_size = 40, class_weight = class_weights)"
      ],
      "metadata": {
        "colab": {
          "base_uri": "https://localhost:8080/"
        },
        "id": "0GuwiWMAwQCo",
        "outputId": "7c929482-4d9f-47c8-ba1c-1dea8616cd79"
      },
      "execution_count": null,
      "outputs": [
        {
          "output_type": "stream",
          "name": "stdout",
          "text": [
            "Epoch 1/15\n",
            "236/236 [==============================] - 47s 160ms/step - loss: 0.2494 - accuracy: 0.5687\n",
            "Epoch 2/15\n",
            "236/236 [==============================] - 25s 105ms/step - loss: 0.2380 - accuracy: 0.6049\n",
            "Epoch 3/15\n",
            "236/236 [==============================] - 18s 77ms/step - loss: 0.1757 - accuracy: 0.7491\n",
            "Epoch 4/15\n",
            "236/236 [==============================] - 16s 66ms/step - loss: 0.1074 - accuracy: 0.8585\n",
            "Epoch 5/15\n",
            "236/236 [==============================] - 15s 63ms/step - loss: 0.0694 - accuracy: 0.9141\n",
            "Epoch 6/15\n",
            "236/236 [==============================] - 12s 52ms/step - loss: 0.0509 - accuracy: 0.9389\n",
            "Epoch 7/15\n",
            "236/236 [==============================] - 11s 46ms/step - loss: 0.0447 - accuracy: 0.9462\n",
            "Epoch 8/15\n",
            "236/236 [==============================] - 9s 40ms/step - loss: 0.0397 - accuracy: 0.9528\n",
            "Epoch 9/15\n",
            "236/236 [==============================] - 11s 46ms/step - loss: 0.0357 - accuracy: 0.9576\n",
            "Epoch 10/15\n",
            "236/236 [==============================] - 9s 38ms/step - loss: 0.0335 - accuracy: 0.9591\n",
            "Epoch 11/15\n",
            "236/236 [==============================] - 9s 37ms/step - loss: 0.0320 - accuracy: 0.9615\n",
            "Epoch 12/15\n",
            "236/236 [==============================] - 9s 39ms/step - loss: 0.0300 - accuracy: 0.9626\n",
            "Epoch 13/15\n",
            "236/236 [==============================] - 9s 37ms/step - loss: 0.0286 - accuracy: 0.9653\n",
            "Epoch 14/15\n",
            "236/236 [==============================] - 8s 34ms/step - loss: 0.0274 - accuracy: 0.9651\n",
            "Epoch 15/15\n",
            "236/236 [==============================] - 9s 36ms/step - loss: 0.0260 - accuracy: 0.9670\n"
          ]
        },
        {
          "output_type": "execute_result",
          "data": {
            "text/plain": [
              "<keras.callbacks.History at 0x7f7ace339690>"
            ]
          },
          "metadata": {},
          "execution_count": 47
        }
      ]
    },
    {
      "cell_type": "code",
      "source": [
        "y_predict = final_model.predict(X_test)\n",
        "\n",
        "y_cls_predict = [1 if i > 0.4 else 0 for i in y_predict]"
      ],
      "metadata": {
        "colab": {
          "base_uri": "https://localhost:8080/"
        },
        "id": "7vc6FOzkw2tZ",
        "outputId": "424abd2a-cfeb-4f13-cef8-6e23f5c7033b"
      },
      "execution_count": null,
      "outputs": [
        {
          "output_type": "stream",
          "name": "stdout",
          "text": [
            "103/103 [==============================] - 2s 19ms/step\n"
          ]
        }
      ]
    },
    {
      "cell_type": "code",
      "source": [
        "print(\"f1-score: \",f1_score(y_test,y_cls_predict))\n",
        "print(classification_report(y_test,y_cls_predict))"
      ],
      "metadata": {
        "colab": {
          "base_uri": "https://localhost:8080/"
        },
        "id": "vX87Rs6nw9eJ",
        "outputId": "5ce90910-ae61-4d1d-c45b-816cac263ee7"
      },
      "execution_count": null,
      "outputs": [
        {
          "output_type": "stream",
          "name": "stdout",
          "text": [
            "f1-score:  0.745842117591942\n",
            "              precision    recall  f1-score   support\n",
            "\n",
            "           0       0.57      0.48      0.52      1237\n",
            "           1       0.71      0.78      0.75      2033\n",
            "\n",
            "    accuracy                           0.67      3270\n",
            "   macro avg       0.64      0.63      0.63      3270\n",
            "weighted avg       0.66      0.67      0.66      3270\n",
            "\n"
          ]
        }
      ]
    },
    {
      "cell_type": "markdown",
      "metadata": {
        "id": "P2zWgdEdxpj4"
      },
      "source": [
        "#### Saving model"
      ]
    },
    {
      "cell_type": "code",
      "execution_count": null,
      "metadata": {
        "id": "-weqOOHSxtvk"
      },
      "outputs": [],
      "source": [
        "!pip install tensorflowjs"
      ]
    },
    {
      "cell_type": "code",
      "execution_count": null,
      "metadata": {
        "colab": {
          "base_uri": "https://localhost:8080/",
          "height": 200
        },
        "id": "liENrZQlx4Nv",
        "outputId": "3e119915-fc45-483e-aee2-3aa6936cc96c"
      },
      "outputs": [
        {
          "ename": "TypeError",
          "evalue": "ignored",
          "output_type": "error",
          "traceback": [
            "\u001b[0;31m---------------------------------------------------------------------------\u001b[0m",
            "\u001b[0;31mTypeError\u001b[0m                                 Traceback (most recent call last)",
            "\u001b[0;32m<ipython-input-21-0c7929760c40>\u001b[0m in \u001b[0;36m<cell line: 3>\u001b[0;34m()\u001b[0m\n\u001b[1;32m      1\u001b[0m \u001b[0;32mimport\u001b[0m \u001b[0mtensorflowjs\u001b[0m \u001b[0;32mas\u001b[0m \u001b[0mtfjs\u001b[0m\u001b[0;34m\u001b[0m\u001b[0;34m\u001b[0m\u001b[0m\n\u001b[1;32m      2\u001b[0m \u001b[0;34m\u001b[0m\u001b[0m\n\u001b[0;32m----> 3\u001b[0;31m \u001b[0mtfjs\u001b[0m\u001b[0;34m.\u001b[0m\u001b[0mconverters\u001b[0m\u001b[0;34m.\u001b[0m\u001b[0msave_keras_model\u001b[0m\u001b[0;34m(\u001b[0m\u001b[0mmodel\u001b[0m\u001b[0;34m,\u001b[0m \u001b[0;34m\"\"\u001b[0m\u001b[0;34m,\u001b[0m \u001b[0msave_format\u001b[0m\u001b[0;34m=\u001b[0m\u001b[0;34m\"tf\"\u001b[0m\u001b[0;34m)\u001b[0m\u001b[0;34m\u001b[0m\u001b[0;34m\u001b[0m\u001b[0m\n\u001b[0m",
            "\u001b[0;31mTypeError\u001b[0m: save_keras_model() got an unexpected keyword argument 'save_format'"
          ]
        }
      ],
      "source": [
        "import tensorflowjs as tfjs\n",
        "\n",
        "tfjs.converters.save_keras_model(model, \"\", save_format=\"tf\")"
      ]
    },
    {
      "cell_type": "markdown",
      "metadata": {
        "id": "8kIX2HQqVct1"
      },
      "source": [
        "from keras_self_attention import SeqSelfAttention, SeqWeightedAttention### **Attention Model**"
      ]
    },
    {
      "cell_type": "code",
      "source": [
        "!pip install keras-self-attention"
      ],
      "metadata": {
        "colab": {
          "base_uri": "https://localhost:8080/"
        },
        "id": "ryBF09gItM3Q",
        "outputId": "206c8c44-90c9-47d9-8593-cf081dda6eb1"
      },
      "execution_count": null,
      "outputs": [
        {
          "output_type": "stream",
          "name": "stdout",
          "text": [
            "Looking in indexes: https://pypi.org/simple, https://us-python.pkg.dev/colab-wheels/public/simple/\n",
            "Collecting keras-self-attention\n",
            "  Downloading keras-self-attention-0.51.0.tar.gz (11 kB)\n",
            "  Preparing metadata (setup.py) ... \u001b[?25l\u001b[?25hdone\n",
            "Requirement already satisfied: numpy in /usr/local/lib/python3.10/dist-packages (from keras-self-attention) (1.22.4)\n",
            "Building wheels for collected packages: keras-self-attention\n",
            "  Building wheel for keras-self-attention (setup.py) ... \u001b[?25l\u001b[?25hdone\n",
            "  Created wheel for keras-self-attention: filename=keras_self_attention-0.51.0-py3-none-any.whl size=18895 sha256=5e162be2251be58e7c359cdac48b62a77845a593727889fb7c2d39da47e49b2b\n",
            "  Stored in directory: /root/.cache/pip/wheels/b8/f7/24/607b483144fb9c47b4ba2c5fba6b68e54aeee2d5bf6c05302e\n",
            "Successfully built keras-self-attention\n",
            "Installing collected packages: keras-self-attention\n",
            "Successfully installed keras-self-attention-0.51.0\n"
          ]
        }
      ]
    },
    {
      "cell_type": "code",
      "source": [
        "from keras_self_attention import SeqSelfAttention, SeqWeightedAttention\n",
        "\n",
        "attn_model = tf.keras.Sequential([\n",
        "    encoder,\n",
        "    tf.keras.layers.Embedding( input_dim=len(vocab), output_dim=128,mask_zero=True),\n",
        "    tf.keras.layers.Bidirectional(tf.keras.layers.LSTM(128,return_sequences = True,dropout = 0.2)),\n",
        "    SeqWeightedAttention(),\n",
        "    tf.keras.layers.BatchNormalization(),\n",
        "    tf.keras.layers.Dense(128),\n",
        "    tf.keras.layers.Dropout(0.2),\n",
        "    tf.keras.layers.Dense(1,activation = \"sigmoid\")\n",
        "         ])\n",
        "\n",
        "\n",
        "attn_model.compile(optimizer='adam',loss = 'binary_crossentropy', metrics = ['AUC','BinaryCrossentropy','acc'])"
      ],
      "metadata": {
        "id": "aeGFnjUMqxO5"
      },
      "execution_count": null,
      "outputs": []
    },
    {
      "cell_type": "code",
      "source": [
        "tf.keras.utils.plot_model(attn_model)"
      ],
      "metadata": {
        "colab": {
          "base_uri": "https://localhost:8080/",
          "height": 856
        },
        "id": "iSNzK6YME5cn",
        "outputId": "0c13870d-8565-484e-db00-4bea688c93f9"
      },
      "execution_count": null,
      "outputs": [
        {
          "output_type": "execute_result",
          "data": {
            "image/png": "[encoded data removed]",
            "text/plain": [
              "<IPython.core.display.Image object>"
            ]
          },
          "metadata": {},
          "execution_count": 16
        }
      ]
    },
    {
      "cell_type": "code",
      "source": [
        "attn_model.fit(X_train,y_train,epochs = 10,batch_size = 40)"
      ],
      "metadata": {
        "colab": {
          "base_uri": "https://localhost:8080/"
        },
        "id": "PqEwVDTmtko7",
        "outputId": "7405cb7a-1077-4468-a297-ba4753fe886a"
      },
      "execution_count": null,
      "outputs": [
        {
          "output_type": "stream",
          "name": "stdout",
          "text": [
            "Epoch 1/10\n",
            "165/165 [==============================] - 53s 221ms/step - loss: 0.6464 - auc: 0.6060 - binary_crossentropy: 0.6464 - acc: 0.6279\n",
            "Epoch 2/10\n",
            "165/165 [==============================] - 27s 167ms/step - loss: 0.4062 - auc: 0.8889 - binary_crossentropy: 0.4062 - acc: 0.8259\n",
            "Epoch 3/10\n",
            "165/165 [==============================] - 21s 126ms/step - loss: 0.2325 - auc: 0.9628 - binary_crossentropy: 0.2325 - acc: 0.9163\n",
            "Epoch 4/10\n",
            "165/165 [==============================] - 13s 79ms/step - loss: 0.1693 - auc: 0.9784 - binary_crossentropy: 0.1693 - acc: 0.9462\n",
            "Epoch 5/10\n",
            "165/165 [==============================] - 12s 69ms/step - loss: 0.1414 - auc: 0.9846 - binary_crossentropy: 0.1414 - acc: 0.9524\n",
            "Epoch 6/10\n",
            "165/165 [==============================] - 12s 74ms/step - loss: 0.1342 - auc: 0.9862 - binary_crossentropy: 0.1342 - acc: 0.9544\n",
            "Epoch 7/10\n",
            "165/165 [==============================] - 10s 63ms/step - loss: 0.1126 - auc: 0.9909 - binary_crossentropy: 0.1126 - acc: 0.9604\n",
            "Epoch 8/10\n",
            "165/165 [==============================] - 11s 64ms/step - loss: 0.1011 - auc: 0.9924 - binary_crossentropy: 0.1011 - acc: 0.9641\n",
            "Epoch 9/10\n",
            "165/165 [==============================] - 8s 48ms/step - loss: 0.0955 - auc: 0.9931 - binary_crossentropy: 0.0955 - acc: 0.9651\n",
            "Epoch 10/10\n",
            "165/165 [==============================] - 9s 56ms/step - loss: 0.0914 - auc: 0.9930 - binary_crossentropy: 0.0914 - acc: 0.9688\n"
          ]
        },
        {
          "output_type": "execute_result",
          "data": {
            "text/plain": [
              "<keras.callbacks.History at 0x7f53ac7c5210>"
            ]
          },
          "metadata": {},
          "execution_count": 17
        }
      ]
    },
    {
      "cell_type": "code",
      "source": [
        "y_pred = attn_model.predict(X_dev)"
      ],
      "metadata": {
        "colab": {
          "base_uri": "https://localhost:8080/"
        },
        "id": "WpBrXo81wGQf",
        "outputId": "a4dd5733-c768-4c1b-cc12-bc7a817b0a0b"
      },
      "execution_count": null,
      "outputs": [
        {
          "output_type": "stream",
          "name": "stdout",
          "text": [
            "89/89 [==============================] - 3s 11ms/step\n"
          ]
        }
      ]
    },
    {
      "cell_type": "code",
      "source": [
        "y_pred_cls = [1 if i > 0.5 else 0 for i in y_pred]\n",
        "print(f1_score(y_dev,y_pred_cls))\n",
        "print(classification_report(y_dev,y_pred_cls))\n"
      ],
      "metadata": {
        "colab": {
          "base_uri": "https://localhost:8080/"
        },
        "id": "OFvcprmVwM_B",
        "outputId": "535462e6-144d-44fa-cb7d-53fa5fd249a4"
      },
      "execution_count": null,
      "outputs": [
        {
          "output_type": "stream",
          "name": "stdout",
          "text": [
            "0.7457360272894255\n",
            "              precision    recall  f1-score   support\n",
            "\n",
            "           0       0.57      0.41      0.48      1078\n",
            "           1       0.69      0.81      0.75      1751\n",
            "\n",
            "    accuracy                           0.66      2829\n",
            "   macro avg       0.63      0.61      0.61      2829\n",
            "weighted avg       0.64      0.66      0.64      2829\n",
            "\n"
          ]
        }
      ]
    },
    {
      "cell_type": "code",
      "source": [
        "from numpy import dot\n",
        "from numpy.linalg import norm\n",
        "\n",
        "hello_enc = encoder(\"hello\")\n",
        "hi_enc = encoder(\"hi\")\n",
        "house_enc = encoder('house')\n",
        "\n",
        "\n",
        "\n",
        "hello_emb = attn_model.trainable_weights[0][hello_enc[0],:]\n",
        "hi_emb = attn_model.trainable_weights[0][hi_enc[0],:]\n",
        "house_emb = attn_model.trainable_weights[0][house_enc[0],:]\n",
        "\n",
        "print(\"hello, hi cos sim: \", dot(hello_emb,hi_emb)/(norm(hello_emb)*norm(hi_emb)))\n",
        "print(\"hello, house cos sim: \", dot(hello_emb,house_emb)/(norm(hello_emb)*norm(house_emb)))\n"
      ],
      "metadata": {
        "colab": {
          "base_uri": "https://localhost:8080/"
        },
        "id": "nhh6ZxIhzJIR",
        "outputId": "ee4fdc03-5a42-44ef-b569-83c5a346b8fb"
      },
      "execution_count": null,
      "outputs": [
        {
          "output_type": "stream",
          "name": "stdout",
          "text": [
            "hello, hi cos sim:  0.019977571\n",
            "hello, house cos sim:  -0.031320963\n"
          ]
        }
      ]
    },
    {
      "cell_type": "code",
      "source": [],
      "metadata": {
        "colab": {
          "base_uri": "https://localhost:8080/",
          "height": 165
        },
        "id": "9fOvL7fTzdNq",
        "outputId": "542542ae-5a0c-4395-c067-e72ec1359041"
      },
      "execution_count": null,
      "outputs": [
        {
          "output_type": "error",
          "ename": "AttributeError",
          "evalue": "ignored",
          "traceback": [
            "\u001b[0;31m---------------------------------------------------------------------------\u001b[0m",
            "\u001b[0;31mAttributeError\u001b[0m                            Traceback (most recent call last)",
            "\u001b[0;32m<ipython-input-50-ebc6fcf85581>\u001b[0m in \u001b[0;36m<cell line: 1>\u001b[0;34m()\u001b[0m\n\u001b[0;32m----> 1\u001b[0;31m \u001b[0my_dev\u001b[0m\u001b[0;34m.\u001b[0m\u001b[0mshape\u001b[0m\u001b[0;34m\u001b[0m\u001b[0;34m\u001b[0m\u001b[0m\n\u001b[0m",
            "\u001b[0;31mAttributeError\u001b[0m: 'list' object has no attribute 'shape'"
          ]
        }
      ]
    },
    {
      "cell_type": "code",
      "execution_count": null,
      "metadata": {
        "colab": {
          "base_uri": "https://localhost:8080/"
        },
        "id": "OqzVIIWDM4Wn",
        "outputId": "ccd4dc61-a241-4554-cba7-cc916897beb5"
      },
      "outputs": [
        {
          "output_type": "stream",
          "name": "stdout",
          "text": [
            "Installing collected packages: funcsigs, tensorflow-text, trax\n",
            "Successfully installed funcsigs-1.0.2 tensorflow-text-2.12.1 trax-1.4.1\n"
          ]
        }
      ],
      "source": [
        "!pip install trax"
      ]
    },
    {
      "cell_type": "code",
      "execution_count": null,
      "metadata": {
        "id": "v9H88jD7M-xo"
      },
      "outputs": [],
      "source": [
        "\n",
        "# Layers used to build the Deep Learning Models\n",
        "import trax.layers as tl\n",
        "# Utilities to build and download datasets\n",
        "import trax.data as data\n",
        "# Utilities for training\n",
        "import trax.supervised as ts\n",
        "# To import models and other utilities:\n",
        "import trax"
      ]
    },
    {
      "cell_type": "code",
      "execution_count": null,
      "metadata": {
        "id": "foHSFsOsNSoW",
        "colab": {
          "base_uri": "https://localhost:8080/"
        },
        "outputId": "4330e7c4-43d1-4cd7-a9f8-ab7bb1e938c1"
      },
      "outputs": [
        {
          "output_type": "stream",
          "name": "stderr",
          "text": [
            "/usr/local/lib/python3.10/dist-packages/ipykernel/ipkernel.py:283: DeprecationWarning: `should_run_async` will not call `transform_cell` automatically in the future. Please pass the result to `transformed_cell` argument and any exception that happen during thetransform in `preprocessing_exc_tuple` in IPython 7.17 and above.\n",
            "  and should_run_async(code)\n"
          ]
        }
      ],
      "source": [
        "import itertools\n",
        "# define the input stream \n",
        "def input_stream(input_file):\n",
        "\n",
        "  for instance in open(input_file):\n",
        "    instance = json.loads(instance)\n",
        "\n",
        "    instance = (clean(instance['passage']) + \" __SEP__ \" + instance['question'] , 1 if instance['answer'] else 0)\n",
        "    yield instance\n",
        "\n",
        "\n",
        "train_input_stream = itertools.cycle(input_stream(\"train.jsonl\"))\n",
        "eval_input_stream = itertools.cycle(input_stream(\"dev.jsonl\"))\n"
      ]
    },
    {
      "cell_type": "code",
      "execution_count": null,
      "metadata": {
        "id": "M_76kSoyPPPP"
      },
      "outputs": [],
      "source": [
        "def tokenize(input_str):\n",
        "\n",
        "    tknz = next(data.tokenize(iter([input_str]),vocab_file = \"en_8k.subword\"))\n",
        "  \n",
        "    return  tknz\n",
        "\n",
        "\n",
        "def detokenize(integers):\n",
        " \n",
        "    return trax.data.detokenize(integers, vocab_file='en_8k.subword')"
      ]
    },
    {
      "cell_type": "code",
      "execution_count": null,
      "metadata": {
        "colab": {
          "base_uri": "https://localhost:8080/"
        },
        "id": "UOVpq8ERQ4E_",
        "outputId": "f0017402-d22f-4741-c4c4-8dffb4224751"
      },
      "outputs": [
        {
          "output_type": "stream",
          "name": "stdout",
          "text": [
            "tokenized: [4581]\n",
            "detokenized: president\n"
          ]
        }
      ],
      "source": [
        "word = \"president\"\n",
        "\n",
        "tokenized = tokenize(word)\n",
        "print(f\"tokenized: {tokenized}\")\n",
        "\n",
        "detokenized = detokenize(tokenized)\n",
        "\n",
        "\n",
        "print(f\"detokenized: {detokenized}\")"
      ]
    },
    {
      "cell_type": "code",
      "execution_count": null,
      "metadata": {
        "id": "dDWUCk8jTNNo"
      },
      "outputs": [],
      "source": [
        "data_pipeline = data.Serial(\n",
        "    data.Tokenize(vocab_file='en_8k.subword', keys=[0]),\n",
        "    data.FilterByLength(max_length=4096, length_keys=[0]),\n",
        "    data.Batch(32),\n",
        "    data.AddLossWeights(id_to_mask = 0)\n",
        ")\n",
        "\n",
        "train_batch_stream = data_pipeline(train_input_stream)\n",
        "eval_batch_stream = data_pipeline(eval_input_stream)"
      ]
    },
    {
      "cell_type": "code",
      "execution_count": null,
      "metadata": {
        "id": "munN9HX1WFU6",
        "colab": {
          "base_uri": "https://localhost:8080/"
        },
        "outputId": "564d37cf-a355-4eb9-8844-4a86d8ab469c"
      },
      "outputs": [
        {
          "output_type": "stream",
          "name": "stderr",
          "text": [
            "/usr/local/lib/python3.10/dist-packages/ipykernel/ipkernel.py:283: DeprecationWarning: `should_run_async` will not call `transform_cell` automatically in the future. Please pass the result to `transformed_cell` argument and any exception that happen during thetransform in `preprocessing_exc_tuple` in IPython 7.17 and above.\n",
            "  and should_run_async(code)\n"
          ]
        }
      ],
      "source": [
        "trax_model = tl.Serial(\n",
        "    tl.Embedding(vocab_size=8192, d_feature=128),\n",
        "    tl.LSTM(128),\n",
        "    tl.Mean(axis=1),\n",
        "    tl.Dense(128),\n",
        "    tl.Dense(1),\n",
        "    tl.Sigmoid()\n",
        ")\n"
      ]
    },
    {
      "cell_type": "code",
      "execution_count": null,
      "metadata": {
        "colab": {
          "base_uri": "https://localhost:8080/",
          "height": 1000
        },
        "id": "kJzvSewiWRJZ",
        "outputId": "4be11970-7975-4207-f1d8-beda03a6eb86"
      },
      "outputs": [
        {
          "output_type": "stream",
          "name": "stderr",
          "text": [
            "/usr/local/lib/python3.10/dist-packages/ipykernel/ipkernel.py:283: DeprecationWarning: `should_run_async` will not call `transform_cell` automatically in the future. Please pass the result to `transformed_cell` argument and any exception that happen during thetransform in `preprocessing_exc_tuple` in IPython 7.17 and above.\n",
            "  and should_run_async(code)\n",
            "/usr/local/lib/python3.10/dist-packages/jax/_src/xla_bridge.py:674: UserWarning: jax.host_count has been renamed to jax.process_count. This alias will eventually be removed; please update your code.\n",
            "  warnings.warn(\n"
          ]
        },
        {
          "output_type": "error",
          "ename": "LayerError",
          "evalue": "ignored",
          "traceback": [
            "\u001b[0;31m---------------------------------------------------------------------------\u001b[0m",
            "\u001b[0;31mLayerError\u001b[0m                                Traceback (most recent call last)",
            "\u001b[0;32m<ipython-input-242-ff8181c01d9b>\u001b[0m in \u001b[0;36m<cell line: 21>\u001b[0;34m()\u001b[0m\n\u001b[1;32m     19\u001b[0m \u001b[0moutput_dir\u001b[0m \u001b[0;34m=\u001b[0m \u001b[0mos\u001b[0m\u001b[0;34m.\u001b[0m\u001b[0mpath\u001b[0m\u001b[0;34m.\u001b[0m\u001b[0mexpanduser\u001b[0m\u001b[0;34m(\u001b[0m\u001b[0;34m'~/output-dir/'\u001b[0m\u001b[0;34m)\u001b[0m\u001b[0;34m\u001b[0m\u001b[0;34m\u001b[0m\u001b[0m\n\u001b[1;32m     20\u001b[0m \u001b[0mget_ipython\u001b[0m\u001b[0;34m(\u001b[0m\u001b[0;34m)\u001b[0m\u001b[0;34m.\u001b[0m\u001b[0msystem\u001b[0m\u001b[0;34m(\u001b[0m\u001b[0;34m'rm -rf {output_dir}'\u001b[0m\u001b[0;34m)\u001b[0m\u001b[0;34m\u001b[0m\u001b[0;34m\u001b[0m\u001b[0m\n\u001b[0;32m---> 21\u001b[0;31m training_loop = ts.training.Loop(trax_model,\n\u001b[0m\u001b[1;32m     22\u001b[0m                               \u001b[0mtrain_task\u001b[0m\u001b[0;34m,\u001b[0m\u001b[0;34m\u001b[0m\u001b[0;34m\u001b[0m\u001b[0m\n\u001b[1;32m     23\u001b[0m                               \u001b[0meval_tasks\u001b[0m\u001b[0;34m=\u001b[0m\u001b[0;34m[\u001b[0m\u001b[0meval_task\u001b[0m\u001b[0;34m]\u001b[0m\u001b[0;34m,\u001b[0m\u001b[0;34m\u001b[0m\u001b[0;34m\u001b[0m\u001b[0m\n",
            "\u001b[0;32m/usr/local/lib/python3.10/dist-packages/trax/supervised/training.py\u001b[0m in \u001b[0;36m__init__\u001b[0;34m(self, model, tasks, eval_model, eval_tasks, output_dir, checkpoint_at, checkpoint_low_metric, checkpoint_high_metric, permanent_checkpoint_at, eval_at, which_task, n_devices, random_seed, loss_chunk_size, use_memory_efficient_trainer, adasum, callbacks)\u001b[0m\n\u001b[1;32m    278\u001b[0m \u001b[0;34m\u001b[0m\u001b[0m\n\u001b[1;32m    279\u001b[0m     \u001b[0;31m# Create the optimizer for the training loss function.\u001b[0m\u001b[0;34m\u001b[0m\u001b[0;34m\u001b[0m\u001b[0m\n\u001b[0;32m--> 280\u001b[0;31m     \u001b[0mself\u001b[0m\u001b[0;34m.\u001b[0m\u001b[0m_trainer_per_task\u001b[0m \u001b[0;34m=\u001b[0m \u001b[0mtuple\u001b[0m\u001b[0;34m(\u001b[0m\u001b[0mself\u001b[0m\u001b[0;34m.\u001b[0m\u001b[0m_init_trainer\u001b[0m\u001b[0;34m(\u001b[0m\u001b[0mtask\u001b[0m\u001b[0;34m)\u001b[0m \u001b[0;32mfor\u001b[0m \u001b[0mtask\u001b[0m \u001b[0;32min\u001b[0m \u001b[0mtasks\u001b[0m\u001b[0;34m)\u001b[0m\u001b[0;34m\u001b[0m\u001b[0;34m\u001b[0m\u001b[0m\n\u001b[0m\u001b[1;32m    281\u001b[0m \u001b[0;34m\u001b[0m\u001b[0m\n\u001b[1;32m    282\u001b[0m     \u001b[0;31m# Sync layers weights/state in memory effcient trainer layers.\u001b[0m\u001b[0;34m\u001b[0m\u001b[0;34m\u001b[0m\u001b[0m\n",
            "\u001b[0;32m/usr/local/lib/python3.10/dist-packages/trax/supervised/training.py\u001b[0m in \u001b[0;36m<genexpr>\u001b[0;34m(.0)\u001b[0m\n\u001b[1;32m    278\u001b[0m \u001b[0;34m\u001b[0m\u001b[0m\n\u001b[1;32m    279\u001b[0m     \u001b[0;31m# Create the optimizer for the training loss function.\u001b[0m\u001b[0;34m\u001b[0m\u001b[0;34m\u001b[0m\u001b[0m\n\u001b[0;32m--> 280\u001b[0;31m     \u001b[0mself\u001b[0m\u001b[0;34m.\u001b[0m\u001b[0m_trainer_per_task\u001b[0m \u001b[0;34m=\u001b[0m \u001b[0mtuple\u001b[0m\u001b[0;34m(\u001b[0m\u001b[0mself\u001b[0m\u001b[0;34m.\u001b[0m\u001b[0m_init_trainer\u001b[0m\u001b[0;34m(\u001b[0m\u001b[0mtask\u001b[0m\u001b[0;34m)\u001b[0m \u001b[0;32mfor\u001b[0m \u001b[0mtask\u001b[0m \u001b[0;32min\u001b[0m \u001b[0mtasks\u001b[0m\u001b[0;34m)\u001b[0m\u001b[0;34m\u001b[0m\u001b[0;34m\u001b[0m\u001b[0m\n\u001b[0m\u001b[1;32m    281\u001b[0m \u001b[0;34m\u001b[0m\u001b[0m\n\u001b[1;32m    282\u001b[0m     \u001b[0;31m# Sync layers weights/state in memory effcient trainer layers.\u001b[0m\u001b[0;34m\u001b[0m\u001b[0;34m\u001b[0m\u001b[0m\n",
            "\u001b[0;32m/usr/local/lib/python3.10/dist-packages/trax/supervised/training.py\u001b[0m in \u001b[0;36m_init_trainer\u001b[0;34m(self, task)\u001b[0m\n\u001b[1;32m    336\u001b[0m     \u001b[0;31m# Build the per-task model, sharing weights with other tasks.\u001b[0m\u001b[0;34m\u001b[0m\u001b[0;34m\u001b[0m\u001b[0m\n\u001b[1;32m    337\u001b[0m     \u001b[0;32mif\u001b[0m \u001b[0;32mnot\u001b[0m \u001b[0mself\u001b[0m\u001b[0;34m.\u001b[0m\u001b[0m_use_memory_efficient_trainer\u001b[0m\u001b[0;34m:\u001b[0m\u001b[0;34m\u001b[0m\u001b[0;34m\u001b[0m\u001b[0m\n\u001b[0;32m--> 338\u001b[0;31m       model_in_training = _model_with_ends(\n\u001b[0m\u001b[1;32m    339\u001b[0m           \u001b[0mself\u001b[0m\u001b[0;34m.\u001b[0m\u001b[0m_model\u001b[0m\u001b[0;34m,\u001b[0m\u001b[0;34m\u001b[0m\u001b[0;34m\u001b[0m\u001b[0m\n\u001b[1;32m    340\u001b[0m           \u001b[0;34m[\u001b[0m\u001b[0mtask\u001b[0m\u001b[0;34m.\u001b[0m\u001b[0mloss_layer\u001b[0m\u001b[0;34m]\u001b[0m\u001b[0;34m,\u001b[0m\u001b[0;34m\u001b[0m\u001b[0;34m\u001b[0m\u001b[0m\n",
            "\u001b[0;32m/usr/local/lib/python3.10/dist-packages/trax/supervised/training.py\u001b[0m in \u001b[0;36m_model_with_ends\u001b[0;34m(model, end_layers, batch_signature)\u001b[0m\n\u001b[1;32m   1029\u001b[0m   \u001b[0mmetrics_layer\u001b[0m \u001b[0;34m=\u001b[0m \u001b[0mtl\u001b[0m\u001b[0;34m.\u001b[0m\u001b[0mBranch\u001b[0m\u001b[0;34m(\u001b[0m\u001b[0;34m*\u001b[0m\u001b[0mend_layers\u001b[0m\u001b[0;34m)\u001b[0m\u001b[0;34m\u001b[0m\u001b[0;34m\u001b[0m\u001b[0m\n\u001b[1;32m   1030\u001b[0m   \u001b[0mmetrics_input_signature\u001b[0m \u001b[0;34m=\u001b[0m \u001b[0mmodel\u001b[0m\u001b[0;34m.\u001b[0m\u001b[0moutput_signature\u001b[0m\u001b[0;34m(\u001b[0m\u001b[0mbatch_signature\u001b[0m\u001b[0;34m)\u001b[0m\u001b[0;34m\u001b[0m\u001b[0;34m\u001b[0m\u001b[0m\n\u001b[0;32m-> 1031\u001b[0;31m   \u001b[0m_\u001b[0m\u001b[0;34m,\u001b[0m \u001b[0m_\u001b[0m \u001b[0;34m=\u001b[0m \u001b[0mmetrics_layer\u001b[0m\u001b[0;34m.\u001b[0m\u001b[0minit\u001b[0m\u001b[0;34m(\u001b[0m\u001b[0mmetrics_input_signature\u001b[0m\u001b[0;34m)\u001b[0m\u001b[0;34m\u001b[0m\u001b[0;34m\u001b[0m\u001b[0m\n\u001b[0m\u001b[1;32m   1032\u001b[0m \u001b[0;34m\u001b[0m\u001b[0m\n\u001b[1;32m   1033\u001b[0m   \u001b[0mmodel_with_metrics\u001b[0m \u001b[0;34m=\u001b[0m \u001b[0mtl\u001b[0m\u001b[0;34m.\u001b[0m\u001b[0mSerial\u001b[0m\u001b[0;34m(\u001b[0m\u001b[0mmodel\u001b[0m\u001b[0;34m,\u001b[0m \u001b[0mmetrics_layer\u001b[0m\u001b[0;34m)\u001b[0m\u001b[0;34m\u001b[0m\u001b[0;34m\u001b[0m\u001b[0m\n",
            "\u001b[0;32m/usr/local/lib/python3.10/dist-packages/trax/layers/base.py\u001b[0m in \u001b[0;36minit\u001b[0;34m(self, input_signature, rng, use_cache)\u001b[0m\n\u001b[1;32m    308\u001b[0m       \u001b[0;31m# Skipping 3 lines as it's always the uninteresting internal call.\u001b[0m\u001b[0;34m\u001b[0m\u001b[0;34m\u001b[0m\u001b[0m\n\u001b[1;32m    309\u001b[0m       \u001b[0mname\u001b[0m\u001b[0;34m,\u001b[0m \u001b[0mtrace\u001b[0m \u001b[0;34m=\u001b[0m \u001b[0mself\u001b[0m\u001b[0;34m.\u001b[0m\u001b[0m_name\u001b[0m\u001b[0;34m,\u001b[0m \u001b[0m_short_traceback\u001b[0m\u001b[0;34m(\u001b[0m\u001b[0mskip\u001b[0m\u001b[0;34m=\u001b[0m\u001b[0;36m3\u001b[0m\u001b[0;34m)\u001b[0m\u001b[0;34m\u001b[0m\u001b[0;34m\u001b[0m\u001b[0m\n\u001b[0;32m--> 310\u001b[0;31m       raise LayerError(name, 'init', self._caller,\n\u001b[0m\u001b[1;32m    311\u001b[0m                        input_signature, trace) from None\n\u001b[1;32m    312\u001b[0m \u001b[0;34m\u001b[0m\u001b[0m\n",
            "\u001b[0;31mLayerError\u001b[0m: Exception passing through layer BinaryCrossEntropyLoss (in init):\n  layer created in file [...]/<ipython-input-242-ff8181c01d9b>, line 6\n  layer input shapes: (ShapeDtype{shape:(32, 1), dtype:float32}, ShapeDtype{shape:(32,), dtype:int32}, ShapeDtype{shape:(32,), dtype:float32})\n\n  File [...]/trax/layers/combinators.py, line 108, in init_weights_and_state\n    outputs, _ = sublayer._forward_abstract(inputs)\n\nLayerError: Exception passing through layer _BinaryCrossEntropy (in _forward_abstract):\n  layer created in file [...]/<ipython-input-242-ff8181c01d9b>, line 6\n  layer input shapes: (ShapeDtype{shape:(32, 1), dtype:float32}, ShapeDtype{shape:(32,), dtype:int32})\n\n  File [...]/jax/_src/api.py, line 2751, in eval_shape\n    out = pe.abstract_eval_fun(wrapped_fun.call_wrapped,\n\n  File [...]/_src/interpreters/partial_eval.py, line 670, in abstract_eval_fun\n    _, avals_out, _ = trace_to_jaxpr_dynamic(\n\n  File [...]/jax/_src/profiler.py, line 314, in wrapper\n    return func(*args, **kwargs)\n\n  File [...]/_src/interpreters/partial_eval.py, line 2150, in trace_to_jaxpr_dynamic\n    jaxpr, out_avals, consts = trace_to_subjaxpr_dynamic(\n\n  File [...]/_src/interpreters/partial_eval.py, line 2172, in trace_to_subjaxpr_dynamic\n    ans = fun.call_wrapped(*in_tracers_)\n\n  File [...]/jax/_src/linear_util.py, line 188, in call_wrapped\n    ans = self.f(*args, **dict(self.params, **kwargs))\n\n  File [...]/jax/_src/linear_util.py, line 188, in call_wrapped\n    ans = self.f(*args, **dict(self.params, **kwargs))\n\nLayerError: Exception passing through layer _BinaryCrossEntropy (in pure_fn):\n  layer created in file [...]/<ipython-input-242-ff8181c01d9b>, line 6\n  layer input shapes: (ShapeDtype{shape:(32, 1), dtype:float32}, ShapeDtype{shape:(32,), dtype:int32})\n\n  File [...]/trax/layers/base.py, line 743, in forward\n    raw_output = self._forward_fn(inputs)\n\n  File [...]/trax/layers/base.py, line 784, in _forward\n    return f(*xs)\n\n  File [...]/trax/layers/metrics.py, line 589, in f\n    shapes.assert_same_shape(model_output, target_category)\n\n  File [...]/dist-packages/trax/shapes.py, line 140, in assert_same_shape\n    assert_shape_equals(array1, array2.shape)\n\n  File [...]/dist-packages/trax/shapes.py, line 133, in assert_shape_equals\n    assert array.shape == shape, (\n\nAssertionError: Invalid shape (32, 1); expected (32,)."
          ]
        }
      ],
      "source": [
        "# Training task.\n",
        "import os\n",
        "\n",
        "train_task = ts.TrainTask(\n",
        "    labeled_data=train_batch_stream,\n",
        "    loss_layer=tl.BinaryCrossEntropyLoss(),\n",
        "    optimizer=trax.optimizers.Adam(0.01),\n",
        "    n_steps_per_checkpoint=50,\n",
        ")\n",
        "\n",
        "# Evaluaton task.\n",
        "eval_task = ts.EvalTask(\n",
        "    labeled_data=eval_batch_stream,\n",
        "    metrics=[tl.BinaryCrossEntropy(), tl.Accuracy()],\n",
        "    n_eval_batches=20  # For less variance in eval numbers.\n",
        ")\n",
        "\n",
        "# Training loop saves checkpoints to output_dir.\n",
        "output_dir = os.path.expanduser('~/output-dir/')\n",
        "!rm -rf {output_dir}\n",
        "training_loop = ts.training.Loop(trax_model,\n",
        "                              train_task,\n",
        "                              eval_tasks=[eval_task],\n",
        "                              output_dir=output_dir)\n",
        "\n",
        "# Run 2000 steps (batches).\n",
        "training_loop.run(100)\n"
      ]
    },
    {
      "cell_type": "code",
      "source": [
        "inputs, targets, weights = next(eval_batch_stream)\n",
        "\n",
        "example_input = inputs[0]\n",
        "expected_class = targets[0]\n",
        "example_input_str = detokenize(example_input)\n",
        "print(f'example input_str: {example_input_str}')\n",
        "sentiment_log_probs = trax_model(example_input[None, :])  # Add batch dimension.\n",
        "print(f'Model returned class probabilities: {sentiment_log_probs}')\n",
        "print(f'Expected class: {expected_class}')"
      ],
      "metadata": {
        "colab": {
          "base_uri": "https://localhost:8080/"
        },
        "id": "rQWEeGhHnUg7",
        "outputId": "645533df-25cf-4bbc-9561-c56d64bc5a6f"
      },
      "execution_count": null,
      "outputs": [
        {
          "output_type": "stream",
          "name": "stdout",
          "text": [
            "example input_str: The return address is not required on postal mail However lack of a return address prevents the postal service from being able to return the item if it proves undeliverable such as from damage postage due or invalid destination Such mail may otherwise become dead letter mail  __SEP__ can you mail something with no return address<pad><pad><pad><pad><pad><pad><pad><pad><pad><pad><pad><pad><pad><pad><pad><pad><pad><pad><pad><pad><pad><pad><pad><pad><pad><pad><pad><pad><pad><pad><pad><pad><pad><pad><pad><pad><pad><pad><pad><pad><pad><pad><pad><pad><pad><pad><pad><pad><pad><pad><pad><pad><pad><pad><pad><pad><pad><pad><pad><pad><pad><pad><pad><pad><pad><pad><pad><pad><pad><pad><pad><pad><pad><pad><pad><pad><pad><pad><pad><pad><pad><pad><pad><pad><pad><pad><pad><pad><pad><pad><pad><pad><pad><pad><pad><pad><pad><pad><pad><pad><pad><pad><pad><pad><pad><pad><pad><pad><pad><pad><pad><pad><pad><pad><pad><pad><pad><pad><pad><pad><pad><pad><pad><pad><pad><pad><pad><pad><pad><pad><pad><pad><pad><pad><pad><pad><pad><pad><pad><pad><pad><pad><pad><pad><pad><pad><pad><pad><pad><pad><pad><pad><pad><pad><pad><pad><pad><pad><pad><pad><pad><pad><pad><pad><pad><pad><pad><pad><pad><pad><pad><pad><pad><pad><pad><pad><pad><pad><pad><pad><pad><pad><pad><pad><pad><pad><pad><pad><pad><pad><pad><pad><pad><pad><pad><pad><pad><pad><pad><pad><pad><pad><pad><pad><pad><pad><pad><pad><pad><pad><pad><pad><pad><pad><pad><pad><pad><pad><pad><pad><pad><pad><pad><pad><pad><pad><pad><pad><pad><pad><pad><pad><pad><pad><pad><pad><pad><pad><pad><pad><pad><pad><pad><pad><pad><pad><pad><pad><pad><pad><pad><pad><pad><pad><pad><pad><pad><pad><pad><pad><pad><pad><pad><pad><pad><pad><pad><pad><pad><pad><pad><pad><pad><pad><pad><pad><pad><pad><pad><pad><pad><pad><pad><pad><pad><pad><pad><pad><pad><pad><pad><pad><pad><pad><pad><pad><pad><pad><pad><pad><pad><pad><pad><pad><pad><pad><pad><pad><pad><pad>\n",
            "Model returned class probabilities: [[0.11222743]]\n",
            "Expected class: 1\n"
          ]
        }
      ]
    },
    {
      "cell_type": "code",
      "source": [],
      "metadata": {
        "colab": {
          "base_uri": "https://localhost:8080/"
        },
        "id": "i6qStIwkoNLz",
        "outputId": "86534fe5-5898-4c72-f3c9-878129380a25"
      },
      "execution_count": null,
      "outputs": [
        {
          "output_type": "execute_result",
          "data": {
            "text/plain": [
              "433"
            ]
          },
          "metadata": {},
          "execution_count": 160
        }
      ]
    }
  ],
  "metadata": {
    "accelerator": "GPU",
    "colab": {
      "provenance": []
    },
    "gpuClass": "standard",
    "kernelspec": {
      "display_name": "Python 3",
      "name": "python3"
    },
    "language_info": {
      "name": "python"
    }
  },
  "nbformat": 4,
  "nbformat_minor": 0
}