{
 "cells": [
  {
   "cell_type": "code",
   "execution_count": null,
   "metadata": {
    "collapsed": true
   },
   "outputs": [],
   "source": []
  },
  {
   "cell_type": "code",
   "execution_count": 32,
   "outputs": [],
   "source": [
    "import sklearn as sk\n",
    "import numpy as np\n",
    "import pandas as pd\n",
    "import json\n",
    "from torch.utils.data import Dataset, DataLoader\n",
    "\n",
    "class BQDataset():\n",
    "    def __init__(self, path):\n",
    "        self.dataset = open(path,encoding=\"utf-8\")\n",
    "\n",
    "        self.dataset = [json.loads(instance) for instance in self.dataset ]\n",
    "\n",
    "\n",
    "        self.passages = []\n",
    "        self.questions = []\n",
    "        self.answers = []\n",
    "        self.titles = []\n",
    "\n",
    "        for inst in self.dataset:\n",
    "            self.passages.append(inst[\"passage\"])\n",
    "            self.questions.append(inst[\"question\"])\n",
    "            self.answers.append(inst[\"answer\"])\n",
    "            self.titles.append(inst[\"title\"])\n",
    "\n",
    "    def get_dataset(self):\n",
    "        return self.dataset\n",
    "\n",
    "    def get_split(self):\n",
    "\n",
    "        return self.passages,self.questions, self.answers\n",
    "\n",
    "\n",
    "bqd = BQDataset(\"datasets/train.jsonl\")\n",
    "dataset = bqd.get_dataset()\n"
   ],
   "metadata": {
    "collapsed": false
   }
  },
  {
   "cell_type": "markdown",
   "source": [
    "### Preprocessing"
   ],
   "metadata": {
    "collapsed": false
   }
  },
  {
   "cell_type": "code",
   "execution_count": null,
   "outputs": [],
   "source": [
    "def clean(text, stem_words=True):\n",
    "    import re    # for regular expressions\n",
    "    from string import punctuation\n",
    "    from nltk.stem import SnowballStemmer    #if you are brave enough to do stemming\n",
    "    from nltk.corpus import stopwords      #if you want to remove stopwords\n",
    "\n",
    "    if type(text) != str or text=='':\n",
    "        return ''\n",
    "\n",
    "    text = re.sub(\"\\'s\", \" \", text) # we have cases like \"Sam is\" or \"Sam's\" (i.e. his) these two cases aren't separable, I choose to compromise are kill \"'s\" directly\n",
    "    text = re.sub(\" whats \", \" what is \", text, flags=re.IGNORECASE)\n",
    "    text = re.sub(\"\\'ve\", \" have \", text)\n",
    "\n",
    "    ### YOUR CODE HERE\n",
    "    text = re.sub(\"can't\", \"cannot\", text, flags=re.IGNORECASE)\n",
    "    text = re.sub(\"don't\", \"do not\", text, flags=re.IGNORECASE)\n",
    "    text = re.sub(\"won't\", \"will not\", text, flags=re.IGNORECASE)\n",
    "    text = re.sub(\"shouldn't\", \"should not\", text, flags=re.IGNORECASE)\n",
    "    text = re.sub(\"couldn't\", \"could not\", text, flags=re.IGNORECASE)\n",
    "    text = re.sub(\"isn't\", \"is not\", text, flags=re.IGNORECASE)\n",
    "    text = re.sub(\"wasn't\", \"was not\", text, flags=re.IGNORECASE)\n",
    "    text = re.sub(\"weren't\", \"were not\", text, flags=re.IGNORECASE)\n",
    "    text = re.sub(\"haven't\", \"have not\", text, flags=re.IGNORECASE)\n",
    "    text = re.sub(\"hasn't\", \"has not\", text, flags=re.IGNORECASE)\n",
    "\n",
    "    text = re.sub(r\"[0-9]-[0-9]\", \" minus \", text)\n",
    "    text = re.sub(\"-\", \" \", text)\n",
    "\n",
    "    digit_letters = [\"zero\", \"one\", \"two\", \"three\", \"four\", \"five\", \"six\", \"seven\", \"eight\", \"nine\"]\n",
    "    for i in range(len(digit_letters)):\n",
    "        regex = rf\"(?<=\\b){str(i)}(?=\\b)\"\n",
    "        text = re.sub(regex, digit_letters[i], text)\n",
    "\n",
    "    # remove comma between numbers, i.e. 15,000 -> 15000\n",
    "    text = re.sub('(?<=[0-9])\\,(?=[0-9])', \"\", text)\n",
    "\n",
    "    # Return a list of words\n",
    "    return text\n"
   ],
   "metadata": {
    "collapsed": false
   }
  },
  {
   "cell_type": "code",
   "execution_count": null,
   "outputs": [],
   "source": [
    "def tokenize(text):\n",
    "\n",
    "    # Split by whitespace\n",
    "    text = text.split(\" \")\n",
    "\n",
    "    return text"
   ],
   "metadata": {
    "collapsed": false
   }
  },
  {
   "cell_type": "code",
   "execution_count": null,
   "outputs": [],
   "source": [
    "# Apply pre-processing to data\n",
    "p,q,answers = bqd.get_split()\n",
    "\n",
    "questions = []\n",
    "passages = []\n",
    "for i in range(len(p)):\n",
    "\n",
    "    p_ = clean(p[i])\n",
    "    p_ = tokenize(p_)\n",
    "\n",
    "    q_ = clean(q[i])\n",
    "    q_ = tokenize(q_)\n",
    "\n",
    "    passages.append(p_)\n",
    "    questions.append(q_)"
   ],
   "metadata": {
    "collapsed": false
   }
  },
  {
   "cell_type": "markdown",
   "source": [
    "### Baseline Model\n",
    "\n"
   ],
   "metadata": {
    "collapsed": false
   }
  },
  {
   "cell_type": "code",
   "execution_count": 53,
   "outputs": [],
   "source": [
    "from sklearn.model_selection import *\n",
    "from sklearn.metrics import *\n",
    "class BaselineModel:\n",
    "\n",
    "\n",
    "    def __init__(self, w2v_model,embedding_size, P,Q,A,seed = 0):\n",
    "\n",
    "        self.w2v = w2v_model\n",
    "        self.embedding_size = embedding_size\n",
    "        self.P = P\n",
    "        self.Q = Q\n",
    "        self.A = A\n",
    "\n",
    "        self.X, self.y = self.get_X_y(self.P,self.Q,self.A,embedding_size,self.w2v)\n",
    "\n",
    "        self.X_train, self.X_dev, self.y_train, self.y_dev = sk.model_selection.train_test_split(self.X,self.y,random_state=seed,shuffle=True,train_size=0.7)\n",
    "\n",
    "    def get_X_y(self,P,Q,A, embedding_size, w2v):\n",
    "\n",
    "        X = []\n",
    "        y = []\n",
    "        for i in range(len(P)):\n",
    "\n",
    "            p_ = P[i]\n",
    "            q_ = Q[i]\n",
    "\n",
    "            p_vect = np.zeros(embedding_size)\n",
    "            q_vect = np.zeros(embedding_size)\n",
    "\n",
    "            for word in p_:\n",
    "                if word in w2v.wv.key_to_index:\n",
    "\n",
    "                    p_vect += w2v.wv.get_vector(word)\n",
    "\n",
    "            for word in q_:\n",
    "                if word in w2v.wv.key_to_index:\n",
    "                    q_vect += w2v.wv.get_vector(word)\n",
    "\n",
    "\n",
    "            p_vect /= len(p_)\n",
    "            q_vect /= len(q_)\n",
    "\n",
    "            X.append(np.concatenate([p_vect,q_vect]))\n",
    "            y.append(0 if A[i] == False else 1)\n",
    "\n",
    "        return X,y\n",
    "\n",
    "\n",
    "    def evaluate(self, classifier):\n",
    "\n",
    "        classifier.fit(self.X_train,self.y_train)\n",
    "\n",
    "\n",
    "\n",
    "        train_score = f1_score(self.y_train,classifier.predict(self.X_train))\n",
    "        dev_score = f1_score(self.y_dev,classifier.predict(self.X_dev))\n",
    "\n",
    "\n",
    "        print(f\"f1-score for train set: {train_score}\")\n",
    "        print(f\"f1-score for dev set: {dev_score}\")\n",
    "\n",
    "\n",
    "\n",
    "\n"
   ],
   "metadata": {
    "collapsed": false
   }
  },
  {
   "cell_type": "code",
   "execution_count": 72,
   "outputs": [],
   "source": [
    "from gensim.models import Word2Vec\n",
    "from sklearn.linear_model import *\n",
    "\n",
    "embedding_size = 100\n",
    "\n",
    "\n",
    "sentences = []\n",
    "for i in range(len(passages)):\n",
    "    temp = passages[i]\n",
    "    temp.extend(questions[i])\n",
    "    sentences.append(temp)\n",
    "\n"
   ],
   "metadata": {
    "collapsed": false
   }
  },
  {
   "cell_type": "code",
   "execution_count": 73,
   "outputs": [
    {
     "data": {
      "text/plain": "(8972415, 11474780)"
     },
     "execution_count": 73,
     "metadata": {},
     "output_type": "execute_result"
    }
   ],
   "source": [
    "w2v_model = Word2Vec(sentences=sentences,vector_size=embedding_size, window= 5, min_count= 1, workers= 4)\n",
    "classifier = LogisticRegression(penalty=\"l2\",max_iter=10000)\n",
    "\n",
    "w2v_model.train(sentences,total_examples=len(sentences),epochs=10)\n"
   ],
   "metadata": {
    "collapsed": false
   }
  },
  {
   "cell_type": "code",
   "execution_count": 74,
   "outputs": [
    {
     "name": "stdout",
     "output_type": "stream",
     "text": [
      "f1-score for train set: 0.769654587836406\n",
      "f1-score for dev set: 0.7432701894317048\n"
     ]
    }
   ],
   "source": [
    "k = BaselineModel(w2v_model,embedding_size,passages,questions,answers)\n",
    "k.evaluate(classifier)"
   ],
   "metadata": {
    "collapsed": false
   }
  }
 ],
 "metadata": {
  "kernelspec": {
   "display_name": "Python 3",
   "language": "python",
   "name": "python3"
  },
  "language_info": {
   "codemirror_mode": {
    "name": "ipython",
    "version": 2
   },
   "file_extension": ".py",
   "mimetype": "text/x-python",
   "name": "python",
   "nbconvert_exporter": "python",
   "pygments_lexer": "ipython2",
   "version": "2.7.6"
  }
 },
 "nbformat": 4,
 "nbformat_minor": 0
}
