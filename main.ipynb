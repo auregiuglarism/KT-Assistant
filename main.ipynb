{
 "cells": [
  {
   "cell_type": "code",
   "execution_count": null,
   "metadata": {
    "collapsed": true
   },
   "outputs": [],
   "source": []
  },
  {
   "cell_type": "code",
   "execution_count": 23,
   "metadata": {
    "collapsed": false
   },
   "outputs": [],
   "source": [
    "import sklearn as sk\n",
    "import numpy as np\n",
    "import pandas as pd\n",
    "import json\n",
    "from torch.utils.data import Dataset, DataLoader\n",
    "\n",
    "class BQDataset():\n",
    "    def __init__(self, path):\n",
    "        self.dataset = open(path,encoding=\"utf-8\")\n",
    "\n",
    "        self.dataset = [json.loads(instance) for instance in self.dataset ]\n",
    "\n",
    "\n",
    "        self.passages = []\n",
    "        self.questions = []\n",
    "        self.answers = []\n",
    "        self.titles = []\n",
    "\n",
    "        for inst in self.dataset:\n",
    "            self.passages.append(inst[\"passage\"])\n",
    "            self.questions.append(inst[\"question\"])\n",
    "            self.answers.append(inst[\"answer\"])\n",
    "            self.titles.append(inst[\"title\"])\n",
    "\n",
    "    def get_dataset(self):\n",
    "        return self.dataset\n",
    "\n",
    "    def get_split(self):\n",
    "\n",
    "        return self.passages,self.questions, self.answers\n",
    "\n",
    "\n",
    "bqd = BQDataset(\"datasets/train.jsonl\")\n",
    "dataset = bqd.get_dataset()\n"
   ]
  },
  {
   "attachments": {},
   "cell_type": "markdown",
   "metadata": {
    "collapsed": false
   },
   "source": [
    "### Preprocessing"
   ]
  },
  {
   "cell_type": "code",
   "execution_count": 24,
   "metadata": {
    "collapsed": false
   },
   "outputs": [],
   "source": [
    "def clean(text, stem_words=True):\n",
    "    import re    # for regular expressions\n",
    "    from string import punctuation\n",
    "    from nltk.stem import SnowballStemmer    #if you are brave enough to do stemming\n",
    "    from nltk.corpus import stopwords      #if you want to remove stopwords\n",
    "\n",
    "    if type(text) != str or text=='':\n",
    "        return ''\n",
    "\n",
    "    text = re.sub(\"\\'s\", \" \", text) # we have cases like \"Sam is\" or \"Sam's\" (i.e. his) these two cases aren't separable, I choose to compromise are kill \"'s\" directly\n",
    "    text = re.sub(\" whats \", \" what is \", text, flags=re.IGNORECASE)\n",
    "    text = re.sub(\"\\'ve\", \" have \", text)\n",
    "\n",
    "    ### YOUR CODE HERE\n",
    "    text = re.sub(\"can't\", \"cannot\", text, flags=re.IGNORECASE)\n",
    "    text = re.sub(\"don't\", \"do not\", text, flags=re.IGNORECASE)\n",
    "    text = re.sub(\"won't\", \"will not\", text, flags=re.IGNORECASE)\n",
    "    text = re.sub(\"shouldn't\", \"should not\", text, flags=re.IGNORECASE)\n",
    "    text = re.sub(\"couldn't\", \"could not\", text, flags=re.IGNORECASE)\n",
    "    text = re.sub(\"isn't\", \"is not\", text, flags=re.IGNORECASE)\n",
    "    text = re.sub(\"wasn't\", \"was not\", text, flags=re.IGNORECASE)\n",
    "    text = re.sub(\"weren't\", \"were not\", text, flags=re.IGNORECASE)\n",
    "    text = re.sub(\"haven't\", \"have not\", text, flags=re.IGNORECASE)\n",
    "    text = re.sub(\"hasn't\", \"has not\", text, flags=re.IGNORECASE)\n",
    "\n",
    "    text = re.sub(r\"[0-9]-[0-9]\", \" minus \", text)\n",
    "    text = re.sub(\"-\", \" \", text)\n",
    "\n",
    "    digit_letters = [\"zero\", \"one\", \"two\", \"three\", \"four\", \"five\", \"six\", \"seven\", \"eight\", \"nine\"]\n",
    "    for i in range(len(digit_letters)):\n",
    "        regex = rf\"(?<=\\b){str(i)}(?=\\b)\"\n",
    "        text = re.sub(regex, digit_letters[i], text)\n",
    "\n",
    "    # remove comma between numbers, i.e. 15,000 -> 15000\n",
    "    text = re.sub('(?<=[0-9])\\,(?=[0-9])', \"\", text)\n",
    "\n",
    "    # Return a list of words\n",
    "    return text\n"
   ]
  },
  {
   "cell_type": "code",
   "execution_count": 25,
   "metadata": {
    "collapsed": false
   },
   "outputs": [],
   "source": [
    "def tokenize(text):\n",
    "\n",
    "    # Split by whitespace\n",
    "    text = text.split(\" \")\n",
    "\n",
    "    return text"
   ]
  },
  {
   "cell_type": "code",
   "execution_count": 26,
   "metadata": {
    "collapsed": false
   },
   "outputs": [],
   "source": [
    "# Apply pre-processing to data\n",
    "p,q,answers = bqd.get_split()\n",
    "\n",
    "questions = []\n",
    "passages = []\n",
    "for i in range(len(p)):\n",
    "\n",
    "    p_ = clean(p[i])\n",
    "    p_ = tokenize(p_)\n",
    "\n",
    "    q_ = clean(q[i])\n",
    "    q_ = tokenize(q_)\n",
    "\n",
    "    passages.append(p_)\n",
    "    questions.append(q_)"
   ]
  },
  {
   "attachments": {},
   "cell_type": "markdown",
   "metadata": {
    "collapsed": false
   },
   "source": [
    "### Baseline Model\n",
    "\n"
   ]
  },
  {
   "cell_type": "code",
   "execution_count": 27,
   "metadata": {
    "collapsed": false
   },
   "outputs": [],
   "source": [
    "from sklearn.model_selection import *\n",
    "from sklearn.metrics import *\n",
    "class BaselineModel:\n",
    "\n",
    "\n",
    "    def __init__(self, w2v_model,embedding_size, P,Q,A,seed = 0):\n",
    "\n",
    "        self.w2v = w2v_model\n",
    "        self.embedding_size = embedding_size\n",
    "        self.P = P\n",
    "        self.Q = Q\n",
    "        self.A = A\n",
    "\n",
    "        self.X, self.y = self.get_X_y(self.P,self.Q,self.A,embedding_size,self.w2v)\n",
    "\n",
    "        self.X_train, self.X_dev, self.y_train, self.y_dev = sk.model_selection.train_test_split(self.X,self.y,random_state=seed,shuffle=True,train_size=0.7)\n",
    "\n",
    "    def get_X_y(self,P,Q,A, embedding_size, w2v):\n",
    "\n",
    "        X = []\n",
    "        y = []\n",
    "        for i in range(len(P)):\n",
    "\n",
    "            p_ = P[i]\n",
    "            q_ = Q[i]\n",
    "\n",
    "            p_vect = np.zeros(embedding_size)\n",
    "            q_vect = np.zeros(embedding_size)\n",
    "\n",
    "            for word in p_:\n",
    "                if word in w2v.wv.key_to_index:\n",
    "\n",
    "                    p_vect += w2v.wv.get_vector(word)\n",
    "\n",
    "            for word in q_:\n",
    "                if word in w2v.wv.key_to_index:\n",
    "                    q_vect += w2v.wv.get_vector(word)\n",
    "\n",
    "\n",
    "            p_vect /= len(p_)\n",
    "            q_vect /= len(q_)\n",
    "\n",
    "            X.append(np.concatenate([p_vect,q_vect]))\n",
    "            y.append(0 if A[i] == False else 1)\n",
    "\n",
    "        return X,y\n",
    "\n",
    "\n",
    "    def evaluate(self, classifier):\n",
    "\n",
    "        classifier.fit(self.X_train,self.y_train)\n",
    "\n",
    "        train_score = f1_score(self.y_train,classifier.predict(self.X_train))\n",
    "        dev_score = f1_score(self.y_dev,classifier.predict(self.X_dev))\n",
    "\n",
    "\n",
    "        print(f\"f1-score for train set: {train_score}\")\n",
    "        print(f\"f1-score for dev set: {dev_score}\")\n",
    "\n",
    "\n",
    "\n",
    "\n"
   ]
  },
  {
   "cell_type": "code",
   "execution_count": 28,
   "metadata": {
    "collapsed": false
   },
   "outputs": [],
   "source": [
    "from gensim.models import Word2Vec\n",
    "from sklearn.linear_model import *\n",
    "\n",
    "embedding_size = 100\n",
    "\n",
    "\n",
    "sentences = []\n",
    "for i in range(len(passages)):\n",
    "    temp = passages[i]\n",
    "    temp.extend(questions[i])\n",
    "    sentences.append(temp)\n",
    "\n"
   ]
  },
  {
   "cell_type": "code",
   "execution_count": 126,
   "metadata": {
    "collapsed": false
   },
   "outputs": [
    {
     "data": {
      "text/plain": [
       "(7749230, 9804740)"
      ]
     },
     "execution_count": 126,
     "metadata": {},
     "output_type": "execute_result"
    }
   ],
   "source": [
    "w2v_model = Word2Vec(sentences=sentences,vector_size=embedding_size, window= 5, min_count= 1, workers= 4)\n",
    "classifier = LogisticRegression(penalty=\"l2\",max_iter=10000)\n",
    "\n",
    "w2v_model.train(sentences,total_examples=len(sentences),epochs=10)\n"
   ]
  },
  {
   "cell_type": "code",
   "execution_count": null,
   "metadata": {
    "collapsed": false
   },
   "outputs": [
    {
     "name": "stdout",
     "output_type": "stream",
     "text": [
      "f1-score for train set: 0.7723086694188632\n",
      "f1-score for dev set: 0.7466800300676523\n"
     ]
    }
   ],
   "source": [
    "k = BaselineModel(w2v_model,embedding_size,passages,questions,answers)\n",
    "k.evaluate(classifier)"
   ]
  },
  {
   "attachments": {},
   "cell_type": "markdown",
   "metadata": {},
   "source": [
    "### LSTM Model ###\n"
   ]
  },
  {
   "cell_type": "code",
   "execution_count": 43,
   "metadata": {},
   "outputs": [],
   "source": [
    "import numpy as np\n",
    "import tensorflow as tf\n",
    "import sklearn as sk\n",
    "import pandas as pd\n",
    "from sklearn.model_selection import *\n",
    "from sklearn.metrics import *\n",
    "\n",
    "BUFFER_SIZE = 10000\n",
    "BATCH_SIZE = 64\n",
    "\n",
    "passages = []\n",
    "questions = []\n",
    "answers = []\n",
    "\n",
    "for line in dataset:\n",
    "    passages.append(line[\"passage\"])\n",
    "    questions.append(line[\"question\"])\n",
    "    answers.append(line[\"answer\"])\n"
   ]
  },
  {
   "cell_type": "code",
   "execution_count": 127,
   "metadata": {},
   "outputs": [
    {
     "name": "stdout",
     "output_type": "stream",
     "text": [
      "Within the ADIZ is an even more sensitive zone designated the Washington, D.C. Metropolitan Area Flight Restricted Zone (DC FRZ). The DC FRZ extends approximately 13--15 nmi (15--17 mi; 24--28 km) around the DCA VOR/DME. Flight within the FRZ is restricted to governmental, certain scheduled commercial and a limited set of waivered flights. Three general aviation airports (known as the ``Maryland 3'' or the ``DC 3'') are located inside the DC FRZ: College Park Airport (CGS), Washington Executive/Hyde Field (W32), and Potomac Airport (VKX). <SEP> are planes allowed to fly over washington dc\n"
     ]
    }
   ],
   "source": [
    "# Splitting the data into train and development sets\n",
    "X = []\n",
    "for i in range(len(passages)):\n",
    "    X.append(passages[i] + \" <SEP> \" +  questions[i])\n",
    "\n",
    "seed = 42\n",
    "X_train, X_dev, y_train, y_dev = sk.model_selection.train_test_split(X,answers,random_state=seed,shuffle=True,train_size=0.7)\n",
    "\n",
    "print(X_train[1]) # For testing\n",
    "\n",
    "# Here we are putting the data into a tensorflow dataset so that we can use it with the enconder to vectorize it.\n",
    "X_train_tf = tf.data.Dataset.from_tensor_slices(X_train) # To encode the vectors for the training set\n",
    "# X_dev_tf = tf.data.Dataset.from_tensor_slices(X_dev) # To encode the vectors for the development set\n"
   ]
  },
  {
   "cell_type": "code",
   "execution_count": 128,
   "metadata": {},
   "outputs": [
    {
     "name": "stdout",
     "output_type": "stream",
     "text": [
      "<class 'list'>\n",
      "<class 'list'>\n"
     ]
    }
   ],
   "source": [
    "# Encoding the X_train data only to encode the word vectors then we use X_train on the model\n",
    "VOCAB_SIZE = 1000\n",
    "\n",
    "print(type(X)) # For testing\n",
    "print(type(y_train)) # For testing\n",
    "\n",
    "encoder = tf.keras.layers.TextVectorization(max_tokens=VOCAB_SIZE) # Splits on whitespace by default\n",
    "encoder.adapt(X_train_tf.batch(64))"
   ]
  },
  {
   "cell_type": "code",
   "execution_count": 129,
   "metadata": {},
   "outputs": [
    {
     "data": {
      "text/plain": [
       "array(['', '[UNK]', 'the', 'of', 'and', 'a', 'in', 'to', 'is', 'sep',\n",
       "       'as', 'on', 'for', 'by', 'with', 'was', 'it', 'are', 'or', 'that'],\n",
       "      dtype='<U13')"
      ]
     },
     "execution_count": 129,
     "metadata": {},
     "output_type": "execute_result"
    }
   ],
   "source": [
    "# Retrieving the vocabulary from the encoder\n",
    "vocab = np.array(encoder.get_vocabulary())\n",
    "\n",
    "vocab[:20] # For testing"
   ]
  },
  {
   "cell_type": "code",
   "execution_count": 130,
   "metadata": {},
   "outputs": [
    {
     "data": {
      "text/plain": [
       "array([ 12,   1,  51,  86, 303, 326,   1,  54,   2, 261,   1,  13,   2,\n",
       "         1,   1,   1, 100,   1, 553,  84,   1,   1, 228, 553,   4,   1,\n",
       "       553,   2, 553,  92, 199,  85,   8,  32,   3,   2,  63,   1,  92,\n",
       "       261,  23,   2, 326,  51,  86, 481, 129,   1,   1,   1,   4,   1,\n",
       "         1, 129, 271, 110,   4,  32,   1,   1,  79,  74,   1,   1, 169,\n",
       "        18,   1,  12,   5, 481,   1,   1, 370,   1,   6, 665,   1,   1,\n",
       "       104,   7,  23, 423, 100,  65,  67,  73,  45, 837,   6, 524, 553,\n",
       "        17,   2,  54,  85,  26,  27,   1,  11,   2,   1,   1, 169,  18,\n",
       "         1, 338,   1,  35,  15,   5, 839,   1,   1,   1,   1,   1,   1,\n",
       "         1,   4,   1, 263,  14,   1,   1,   4,   1,  34,  17,  32,   3,\n",
       "         2, 129,  92, 261,   7, 302, 459,  33,   1,   1,  14,   2, 330,\n",
       "         3,   2, 217, 326,  51,  86,   6, 117, 140,   2,  85,  15, 635,\n",
       "         6, 665, 106,   3,   2, 398,   1,   2, 101,  63,   1,   4,  54,\n",
       "       113,  28, 904,   2,   1, 849,   6,   1,   4,  93,  14,  41,   1,\n",
       "         1, 169,  18,   1,   1,   6, 632, 106,   3, 665,   1,   1,   1,\n",
       "       961,   6, 326,  51,  86, 504, 303,  16, 928, 553,   2,   1,  85,\n",
       "         6,   2, 303,   3,   2, 839,   6, 875,   3, 168,   1,  79, 701,\n",
       "        59,   1,   1,  12,   5, 330,   1,   1,   1,   1,   1,   4,   1,\n",
       "         1,   9, 113, 553, 202, 106,   3,   2,  51,  86], dtype=int64)"
      ]
     },
     "execution_count": 130,
     "metadata": {},
     "output_type": "execute_result"
    }
   ],
   "source": [
    "encoded_example = encoder(X_train[0]).numpy()\n",
    "encoded_example # For testing"
   ]
  },
  {
   "cell_type": "code",
   "execution_count": 132,
   "metadata": {},
   "outputs": [
    {
     "name": "stdout",
     "output_type": "stream",
     "text": [
      "Epoch 1/10\n",
      "158/207 [=====================>........] - ETA: 38s - loss: 0.6709 - accuracy: 0.4193"
     ]
    },
    {
     "ename": "KeyboardInterrupt",
     "evalue": "",
     "output_type": "error",
     "traceback": [
      "\u001b[1;31m---------------------------------------------------------------------------\u001b[0m",
      "\u001b[1;31mKeyboardInterrupt\u001b[0m                         Traceback (most recent call last)",
      "\u001b[1;32mc:\\Users\\aured\\Desktop\\Learning Material\\Bsc - DSAI UM\\Year 2\\Semester 2 Period 5\\Natural Language Processing\\NLP Project\\Code\\KT-Assistant\\main.ipynb Cell 18\u001b[0m in \u001b[0;36m<cell line: 18>\u001b[1;34m()\u001b[0m\n\u001b[0;32m      <a href='vscode-notebook-cell:/c%3A/Users/aured/Desktop/Learning%20Material/Bsc%20-%20DSAI%20UM/Year%202/Semester%202%20Period%205/Natural%20Language%20Processing/NLP%20Project/Code/KT-Assistant/main.ipynb#X31sZmlsZQ%3D%3D?line=1'>2</a>\u001b[0m model \u001b[39m=\u001b[39m tf\u001b[39m.\u001b[39mkeras\u001b[39m.\u001b[39mSequential([\n\u001b[0;32m      <a href='vscode-notebook-cell:/c%3A/Users/aured/Desktop/Learning%20Material/Bsc%20-%20DSAI%20UM/Year%202/Semester%202%20Period%205/Natural%20Language%20Processing/NLP%20Project/Code/KT-Assistant/main.ipynb#X31sZmlsZQ%3D%3D?line=2'>3</a>\u001b[0m     encoder,\n\u001b[0;32m      <a href='vscode-notebook-cell:/c%3A/Users/aured/Desktop/Learning%20Material/Bsc%20-%20DSAI%20UM/Year%202/Semester%202%20Period%205/Natural%20Language%20Processing/NLP%20Project/Code/KT-Assistant/main.ipynb#X31sZmlsZQ%3D%3D?line=3'>4</a>\u001b[0m     tf\u001b[39m.\u001b[39mkeras\u001b[39m.\u001b[39mlayers\u001b[39m.\u001b[39mEmbedding(\n\u001b[1;32m   (...)\u001b[0m\n\u001b[0;32m     <a href='vscode-notebook-cell:/c%3A/Users/aured/Desktop/Learning%20Material/Bsc%20-%20DSAI%20UM/Year%202/Semester%202%20Period%205/Natural%20Language%20Processing/NLP%20Project/Code/KT-Assistant/main.ipynb#X31sZmlsZQ%3D%3D?line=10'>11</a>\u001b[0m     tf\u001b[39m.\u001b[39mkeras\u001b[39m.\u001b[39mlayers\u001b[39m.\u001b[39mDense(\u001b[39m1\u001b[39m)\n\u001b[0;32m     <a href='vscode-notebook-cell:/c%3A/Users/aured/Desktop/Learning%20Material/Bsc%20-%20DSAI%20UM/Year%202/Semester%202%20Period%205/Natural%20Language%20Processing/NLP%20Project/Code/KT-Assistant/main.ipynb#X31sZmlsZQ%3D%3D?line=11'>12</a>\u001b[0m ])\n\u001b[0;32m     <a href='vscode-notebook-cell:/c%3A/Users/aured/Desktop/Learning%20Material/Bsc%20-%20DSAI%20UM/Year%202/Semester%202%20Period%205/Natural%20Language%20Processing/NLP%20Project/Code/KT-Assistant/main.ipynb#X31sZmlsZQ%3D%3D?line=13'>14</a>\u001b[0m model\u001b[39m.\u001b[39mcompile(loss\u001b[39m=\u001b[39mtf\u001b[39m.\u001b[39mkeras\u001b[39m.\u001b[39mlosses\u001b[39m.\u001b[39mBinaryCrossentropy(from_logits\u001b[39m=\u001b[39m\u001b[39mTrue\u001b[39;00m),\n\u001b[0;32m     <a href='vscode-notebook-cell:/c%3A/Users/aured/Desktop/Learning%20Material/Bsc%20-%20DSAI%20UM/Year%202/Semester%202%20Period%205/Natural%20Language%20Processing/NLP%20Project/Code/KT-Assistant/main.ipynb#X31sZmlsZQ%3D%3D?line=14'>15</a>\u001b[0m               optimizer\u001b[39m=\u001b[39mtf\u001b[39m.\u001b[39mkeras\u001b[39m.\u001b[39moptimizers\u001b[39m.\u001b[39mAdam(\u001b[39m1e-4\u001b[39m),\n\u001b[0;32m     <a href='vscode-notebook-cell:/c%3A/Users/aured/Desktop/Learning%20Material/Bsc%20-%20DSAI%20UM/Year%202/Semester%202%20Period%205/Natural%20Language%20Processing/NLP%20Project/Code/KT-Assistant/main.ipynb#X31sZmlsZQ%3D%3D?line=15'>16</a>\u001b[0m               metrics\u001b[39m=\u001b[39m[\u001b[39m'\u001b[39m\u001b[39maccuracy\u001b[39m\u001b[39m'\u001b[39m])\n\u001b[1;32m---> <a href='vscode-notebook-cell:/c%3A/Users/aured/Desktop/Learning%20Material/Bsc%20-%20DSAI%20UM/Year%202/Semester%202%20Period%205/Natural%20Language%20Processing/NLP%20Project/Code/KT-Assistant/main.ipynb#X31sZmlsZQ%3D%3D?line=17'>18</a>\u001b[0m model\u001b[39m.\u001b[39;49mfit(X_train, y_train, epochs\u001b[39m=\u001b[39;49m\u001b[39m10\u001b[39;49m)\n",
      "File \u001b[1;32mc:\\Users\\aured\\AppData\\Local\\Programs\\Python\\Python310\\lib\\site-packages\\keras\\utils\\traceback_utils.py:65\u001b[0m, in \u001b[0;36mfilter_traceback.<locals>.error_handler\u001b[1;34m(*args, **kwargs)\u001b[0m\n\u001b[0;32m     63\u001b[0m filtered_tb \u001b[39m=\u001b[39m \u001b[39mNone\u001b[39;00m\n\u001b[0;32m     64\u001b[0m \u001b[39mtry\u001b[39;00m:\n\u001b[1;32m---> 65\u001b[0m     \u001b[39mreturn\u001b[39;00m fn(\u001b[39m*\u001b[39margs, \u001b[39m*\u001b[39m\u001b[39m*\u001b[39mkwargs)\n\u001b[0;32m     66\u001b[0m \u001b[39mexcept\u001b[39;00m \u001b[39mException\u001b[39;00m \u001b[39mas\u001b[39;00m e:\n\u001b[0;32m     67\u001b[0m     filtered_tb \u001b[39m=\u001b[39m _process_traceback_frames(e\u001b[39m.\u001b[39m__traceback__)\n",
      "File \u001b[1;32mc:\\Users\\aured\\AppData\\Local\\Programs\\Python\\Python310\\lib\\site-packages\\keras\\engine\\training.py:1685\u001b[0m, in \u001b[0;36mModel.fit\u001b[1;34m(self, x, y, batch_size, epochs, verbose, callbacks, validation_split, validation_data, shuffle, class_weight, sample_weight, initial_epoch, steps_per_epoch, validation_steps, validation_batch_size, validation_freq, max_queue_size, workers, use_multiprocessing)\u001b[0m\n\u001b[0;32m   1677\u001b[0m \u001b[39mwith\u001b[39;00m tf\u001b[39m.\u001b[39mprofiler\u001b[39m.\u001b[39mexperimental\u001b[39m.\u001b[39mTrace(\n\u001b[0;32m   1678\u001b[0m     \u001b[39m\"\u001b[39m\u001b[39mtrain\u001b[39m\u001b[39m\"\u001b[39m,\n\u001b[0;32m   1679\u001b[0m     epoch_num\u001b[39m=\u001b[39mepoch,\n\u001b[1;32m   (...)\u001b[0m\n\u001b[0;32m   1682\u001b[0m     _r\u001b[39m=\u001b[39m\u001b[39m1\u001b[39m,\n\u001b[0;32m   1683\u001b[0m ):\n\u001b[0;32m   1684\u001b[0m     callbacks\u001b[39m.\u001b[39mon_train_batch_begin(step)\n\u001b[1;32m-> 1685\u001b[0m     tmp_logs \u001b[39m=\u001b[39m \u001b[39mself\u001b[39;49m\u001b[39m.\u001b[39;49mtrain_function(iterator)\n\u001b[0;32m   1686\u001b[0m     \u001b[39mif\u001b[39;00m data_handler\u001b[39m.\u001b[39mshould_sync:\n\u001b[0;32m   1687\u001b[0m         context\u001b[39m.\u001b[39masync_wait()\n",
      "File \u001b[1;32mc:\\Users\\aured\\AppData\\Local\\Programs\\Python\\Python310\\lib\\site-packages\\tensorflow\\python\\util\\traceback_utils.py:150\u001b[0m, in \u001b[0;36mfilter_traceback.<locals>.error_handler\u001b[1;34m(*args, **kwargs)\u001b[0m\n\u001b[0;32m    148\u001b[0m filtered_tb \u001b[39m=\u001b[39m \u001b[39mNone\u001b[39;00m\n\u001b[0;32m    149\u001b[0m \u001b[39mtry\u001b[39;00m:\n\u001b[1;32m--> 150\u001b[0m   \u001b[39mreturn\u001b[39;00m fn(\u001b[39m*\u001b[39margs, \u001b[39m*\u001b[39m\u001b[39m*\u001b[39mkwargs)\n\u001b[0;32m    151\u001b[0m \u001b[39mexcept\u001b[39;00m \u001b[39mException\u001b[39;00m \u001b[39mas\u001b[39;00m e:\n\u001b[0;32m    152\u001b[0m   filtered_tb \u001b[39m=\u001b[39m _process_traceback_frames(e\u001b[39m.\u001b[39m__traceback__)\n",
      "File \u001b[1;32mc:\\Users\\aured\\AppData\\Local\\Programs\\Python\\Python310\\lib\\site-packages\\tensorflow\\python\\eager\\polymorphic_function\\polymorphic_function.py:894\u001b[0m, in \u001b[0;36mFunction.__call__\u001b[1;34m(self, *args, **kwds)\u001b[0m\n\u001b[0;32m    891\u001b[0m compiler \u001b[39m=\u001b[39m \u001b[39m\"\u001b[39m\u001b[39mxla\u001b[39m\u001b[39m\"\u001b[39m \u001b[39mif\u001b[39;00m \u001b[39mself\u001b[39m\u001b[39m.\u001b[39m_jit_compile \u001b[39melse\u001b[39;00m \u001b[39m\"\u001b[39m\u001b[39mnonXla\u001b[39m\u001b[39m\"\u001b[39m\n\u001b[0;32m    893\u001b[0m \u001b[39mwith\u001b[39;00m OptionalXlaContext(\u001b[39mself\u001b[39m\u001b[39m.\u001b[39m_jit_compile):\n\u001b[1;32m--> 894\u001b[0m   result \u001b[39m=\u001b[39m \u001b[39mself\u001b[39m\u001b[39m.\u001b[39m_call(\u001b[39m*\u001b[39margs, \u001b[39m*\u001b[39m\u001b[39m*\u001b[39mkwds)\n\u001b[0;32m    896\u001b[0m new_tracing_count \u001b[39m=\u001b[39m \u001b[39mself\u001b[39m\u001b[39m.\u001b[39mexperimental_get_tracing_count()\n\u001b[0;32m    897\u001b[0m without_tracing \u001b[39m=\u001b[39m (tracing_count \u001b[39m==\u001b[39m new_tracing_count)\n",
      "File \u001b[1;32mc:\\Users\\aured\\AppData\\Local\\Programs\\Python\\Python310\\lib\\site-packages\\tensorflow\\python\\eager\\polymorphic_function\\polymorphic_function.py:926\u001b[0m, in \u001b[0;36mFunction._call\u001b[1;34m(self, *args, **kwds)\u001b[0m\n\u001b[0;32m    923\u001b[0m   \u001b[39mself\u001b[39m\u001b[39m.\u001b[39m_lock\u001b[39m.\u001b[39mrelease()\n\u001b[0;32m    924\u001b[0m   \u001b[39m# In this case we have created variables on the first call, so we run the\u001b[39;00m\n\u001b[0;32m    925\u001b[0m   \u001b[39m# defunned version which is guaranteed to never create variables.\u001b[39;00m\n\u001b[1;32m--> 926\u001b[0m   \u001b[39mreturn\u001b[39;00m \u001b[39mself\u001b[39m\u001b[39m.\u001b[39m_no_variable_creation_fn(\u001b[39m*\u001b[39margs, \u001b[39m*\u001b[39m\u001b[39m*\u001b[39mkwds)  \u001b[39m# pylint: disable=not-callable\u001b[39;00m\n\u001b[0;32m    927\u001b[0m \u001b[39melif\u001b[39;00m \u001b[39mself\u001b[39m\u001b[39m.\u001b[39m_variable_creation_fn \u001b[39mis\u001b[39;00m \u001b[39mnot\u001b[39;00m \u001b[39mNone\u001b[39;00m:\n\u001b[0;32m    928\u001b[0m   \u001b[39m# Release the lock early so that multiple threads can perform the call\u001b[39;00m\n\u001b[0;32m    929\u001b[0m   \u001b[39m# in parallel.\u001b[39;00m\n\u001b[0;32m    930\u001b[0m   \u001b[39mself\u001b[39m\u001b[39m.\u001b[39m_lock\u001b[39m.\u001b[39mrelease()\n",
      "File \u001b[1;32mc:\\Users\\aured\\AppData\\Local\\Programs\\Python\\Python310\\lib\\site-packages\\tensorflow\\python\\eager\\polymorphic_function\\tracing_compiler.py:143\u001b[0m, in \u001b[0;36mTracingCompiler.__call__\u001b[1;34m(self, *args, **kwargs)\u001b[0m\n\u001b[0;32m    140\u001b[0m \u001b[39mwith\u001b[39;00m \u001b[39mself\u001b[39m\u001b[39m.\u001b[39m_lock:\n\u001b[0;32m    141\u001b[0m   (concrete_function,\n\u001b[0;32m    142\u001b[0m    filtered_flat_args) \u001b[39m=\u001b[39m \u001b[39mself\u001b[39m\u001b[39m.\u001b[39m_maybe_define_function(args, kwargs)\n\u001b[1;32m--> 143\u001b[0m \u001b[39mreturn\u001b[39;00m concrete_function\u001b[39m.\u001b[39;49m_call_flat(\n\u001b[0;32m    144\u001b[0m     filtered_flat_args, captured_inputs\u001b[39m=\u001b[39;49mconcrete_function\u001b[39m.\u001b[39;49mcaptured_inputs)\n",
      "File \u001b[1;32mc:\\Users\\aured\\AppData\\Local\\Programs\\Python\\Python310\\lib\\site-packages\\tensorflow\\python\\eager\\polymorphic_function\\monomorphic_function.py:1757\u001b[0m, in \u001b[0;36mConcreteFunction._call_flat\u001b[1;34m(self, args, captured_inputs, cancellation_manager)\u001b[0m\n\u001b[0;32m   1753\u001b[0m possible_gradient_type \u001b[39m=\u001b[39m gradients_util\u001b[39m.\u001b[39mPossibleTapeGradientTypes(args)\n\u001b[0;32m   1754\u001b[0m \u001b[39mif\u001b[39;00m (possible_gradient_type \u001b[39m==\u001b[39m gradients_util\u001b[39m.\u001b[39mPOSSIBLE_GRADIENT_TYPES_NONE\n\u001b[0;32m   1755\u001b[0m     \u001b[39mand\u001b[39;00m executing_eagerly):\n\u001b[0;32m   1756\u001b[0m   \u001b[39m# No tape is watching; skip to running the function.\u001b[39;00m\n\u001b[1;32m-> 1757\u001b[0m   \u001b[39mreturn\u001b[39;00m \u001b[39mself\u001b[39m\u001b[39m.\u001b[39m_build_call_outputs(\u001b[39mself\u001b[39;49m\u001b[39m.\u001b[39;49m_inference_function\u001b[39m.\u001b[39;49mcall(\n\u001b[0;32m   1758\u001b[0m       ctx, args, cancellation_manager\u001b[39m=\u001b[39;49mcancellation_manager))\n\u001b[0;32m   1759\u001b[0m forward_backward \u001b[39m=\u001b[39m \u001b[39mself\u001b[39m\u001b[39m.\u001b[39m_select_forward_and_backward_functions(\n\u001b[0;32m   1760\u001b[0m     args,\n\u001b[0;32m   1761\u001b[0m     possible_gradient_type,\n\u001b[0;32m   1762\u001b[0m     executing_eagerly)\n\u001b[0;32m   1763\u001b[0m forward_function, args_with_tangents \u001b[39m=\u001b[39m forward_backward\u001b[39m.\u001b[39mforward()\n",
      "File \u001b[1;32mc:\\Users\\aured\\AppData\\Local\\Programs\\Python\\Python310\\lib\\site-packages\\tensorflow\\python\\eager\\polymorphic_function\\monomorphic_function.py:381\u001b[0m, in \u001b[0;36m_EagerDefinedFunction.call\u001b[1;34m(self, ctx, args, cancellation_manager)\u001b[0m\n\u001b[0;32m    379\u001b[0m \u001b[39mwith\u001b[39;00m _InterpolateFunctionError(\u001b[39mself\u001b[39m):\n\u001b[0;32m    380\u001b[0m   \u001b[39mif\u001b[39;00m cancellation_manager \u001b[39mis\u001b[39;00m \u001b[39mNone\u001b[39;00m:\n\u001b[1;32m--> 381\u001b[0m     outputs \u001b[39m=\u001b[39m execute\u001b[39m.\u001b[39;49mexecute(\n\u001b[0;32m    382\u001b[0m         \u001b[39mstr\u001b[39;49m(\u001b[39mself\u001b[39;49m\u001b[39m.\u001b[39;49msignature\u001b[39m.\u001b[39;49mname),\n\u001b[0;32m    383\u001b[0m         num_outputs\u001b[39m=\u001b[39;49m\u001b[39mself\u001b[39;49m\u001b[39m.\u001b[39;49m_num_outputs,\n\u001b[0;32m    384\u001b[0m         inputs\u001b[39m=\u001b[39;49margs,\n\u001b[0;32m    385\u001b[0m         attrs\u001b[39m=\u001b[39;49mattrs,\n\u001b[0;32m    386\u001b[0m         ctx\u001b[39m=\u001b[39;49mctx)\n\u001b[0;32m    387\u001b[0m   \u001b[39melse\u001b[39;00m:\n\u001b[0;32m    388\u001b[0m     outputs \u001b[39m=\u001b[39m execute\u001b[39m.\u001b[39mexecute_with_cancellation(\n\u001b[0;32m    389\u001b[0m         \u001b[39mstr\u001b[39m(\u001b[39mself\u001b[39m\u001b[39m.\u001b[39msignature\u001b[39m.\u001b[39mname),\n\u001b[0;32m    390\u001b[0m         num_outputs\u001b[39m=\u001b[39m\u001b[39mself\u001b[39m\u001b[39m.\u001b[39m_num_outputs,\n\u001b[1;32m   (...)\u001b[0m\n\u001b[0;32m    393\u001b[0m         ctx\u001b[39m=\u001b[39mctx,\n\u001b[0;32m    394\u001b[0m         cancellation_manager\u001b[39m=\u001b[39mcancellation_manager)\n",
      "File \u001b[1;32mc:\\Users\\aured\\AppData\\Local\\Programs\\Python\\Python310\\lib\\site-packages\\tensorflow\\python\\eager\\execute.py:52\u001b[0m, in \u001b[0;36mquick_execute\u001b[1;34m(op_name, num_outputs, inputs, attrs, ctx, name)\u001b[0m\n\u001b[0;32m     50\u001b[0m \u001b[39mtry\u001b[39;00m:\n\u001b[0;32m     51\u001b[0m   ctx\u001b[39m.\u001b[39mensure_initialized()\n\u001b[1;32m---> 52\u001b[0m   tensors \u001b[39m=\u001b[39m pywrap_tfe\u001b[39m.\u001b[39;49mTFE_Py_Execute(ctx\u001b[39m.\u001b[39;49m_handle, device_name, op_name,\n\u001b[0;32m     53\u001b[0m                                       inputs, attrs, num_outputs)\n\u001b[0;32m     54\u001b[0m \u001b[39mexcept\u001b[39;00m core\u001b[39m.\u001b[39m_NotOkStatusException \u001b[39mas\u001b[39;00m e:\n\u001b[0;32m     55\u001b[0m   \u001b[39mif\u001b[39;00m name \u001b[39mis\u001b[39;00m \u001b[39mnot\u001b[39;00m \u001b[39mNone\u001b[39;00m:\n",
      "\u001b[1;31mKeyboardInterrupt\u001b[0m: "
     ]
    }
   ],
   "source": [
    "# Building the model\n",
    "# We are using the X_train data to train the model, X_train_tf is only used to encode the word vectors.\n",
    "model = tf.keras.Sequential([\n",
    "    encoder,\n",
    "    tf.keras.layers.Embedding(\n",
    "        input_dim=len(vocab),\n",
    "        output_dim=64,\n",
    "        # Use masking to handle the variable sequence lengths\n",
    "        mask_zero=True),\n",
    "    tf.keras.layers.Bidirectional(tf.keras.layers.LSTM(64)),\n",
    "    tf.keras.layers.Dense(64, activation='relu'),\n",
    "    tf.keras.layers.Dense(1)\n",
    "])\n",
    "\n",
    "model.compile(loss=tf.keras.losses.BinaryCrossentropy(from_logits=True),\n",
    "              optimizer=tf.keras.optimizers.Adam(1e-4),\n",
    "              metrics=['accuracy'])\n",
    "\n",
    "# Training the model on the training set\n",
    "model.fit(X_train, y_train, epochs=10)\n",
    "\n"
   ]
  }
 ],
 "metadata": {
  "kernelspec": {
   "display_name": "Python 3",
   "language": "python",
   "name": "python3"
  },
  "language_info": {
   "codemirror_mode": {
    "name": "ipython",
    "version": 3
   },
   "file_extension": ".py",
   "mimetype": "text/x-python",
   "name": "python",
   "nbconvert_exporter": "python",
   "pygments_lexer": "ipython3",
   "version": "3.10.6"
  }
 },
 "nbformat": 4,
 "nbformat_minor": 0
}
